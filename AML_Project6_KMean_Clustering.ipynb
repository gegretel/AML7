{
  "nbformat": 4,
  "nbformat_minor": 0,
  "metadata": {
    "colab": {
      "name": "AML_Project6_KMean_Clustering.ipynb",
      "provenance": [],
      "collapsed_sections": []
    },
    "kernelspec": {
      "name": "python3",
      "display_name": "Python 3"
    }
  },
  "cells": [
    {
      "cell_type": "markdown",
      "metadata": {
        "id": "rXN9EdeGG0xN",
        "colab_type": "text"
      },
      "source": [
        "# Project 6 - Team 2\n",
        "Joe, Getong, Abby\n",
        "\n",
        "In this project, the following items were performed.\n",
        "\n",
        "1) Select 4 datasets\n",
        "\n",
        "2) For each dataset, cluster the images using K-Means and plot the elbow graph to show the best K.\n",
        "\n",
        "3) Train a classifier to determine which object is represented in each image and evaluate it on the validation set.\n",
        "\n",
        "4) Use K-Means as a dimensionality reduction tool and train a classifier on the reduced set. Search for the number of clusters that provides the best performance.\n",
        "\n",
        "5) Train a Gaussian mixture model  on each dataset. To speed up the algorithm, use PCA dimensionality reduction (99% variataion).\n",
        "\n",
        "6) Graph results of your experiments for the different data sets and provide a qualitative assessment and detailed discussion of the achieved results.\n"
      ]
    },
    {
      "cell_type": "markdown",
      "metadata": {
        "id": "H6IhzQ2ZtQYC",
        "colab_type": "text"
      },
      "source": [
        "# Introduction"
      ]
    },
    {
      "cell_type": "markdown",
      "metadata": {
        "id": "vywq76p0s7k4",
        "colab_type": "text"
      },
      "source": [
        "K-means is a method of cluster analysis which aims to partition n observations into k clusters in which each observation belongs to the cluster with the nearest mean. It is similar to the expectation-maximization algorithm for mixtures of Gaussians in that they both attempt to find the centers of natural clusters in the data.\n",
        "\n",
        "In addition, K-means also can work as a dimension reduction tool for machine learning. MNIST was used as the training dataset. Four of its subset (5,0,1,4) are chosen to perform K-means clustering. For each subset, all the subset has a bunch of images tagged with the same handwritten digits. \n",
        "\n",
        "Then, we utilize k-means clustering as a classifier and compare with another classifier Logistic Regression.\n",
        "\n",
        "Later on, k-means clustering was performed as a dimension reduction technique in another classifier - Random Forrest.\n",
        "\n",
        "Gaussian Mixture Model was performed on the whole dataset MNIST as well as four selected subsets (5,0,1,4).\n",
        "All of these GMMs show convergence in the results."
      ]
    },
    {
      "cell_type": "markdown",
      "metadata": {
        "id": "qqOt4qH4G6Xt",
        "colab_type": "text"
      },
      "source": [
        "# Setup"
      ]
    },
    {
      "cell_type": "code",
      "metadata": {
        "id": "ZsbA4QBfGsVV",
        "colab_type": "code",
        "colab": {}
      },
      "source": [
        "# Python ≥3.5 is required\n",
        "import sys\n",
        "assert sys.version_info >= (3, 5)\n",
        "\n",
        "# Scikit-Learn ≥0.20 is required\n",
        "import sklearn\n",
        "assert sklearn.__version__ >= \"0.20\"\n",
        "\n",
        "# Common imports\n",
        "import numpy as np\n",
        "import os\n",
        "import urllib\n",
        "from sklearn.cluster import KMeans\n",
        "from sklearn.mixture import GaussianMixture\n",
        "from sklearn.mixture import GaussianMixture\n",
        "import tensorflow as tf\n",
        "import IPython.display as display\n",
        "from PIL import Image\n",
        "\n",
        "# to make this notebook's output stable across runs\n",
        "np.random.seed(42)\n",
        "\n",
        "# To plot pretty figures\n",
        "%matplotlib inline\n",
        "import matplotlib as mpl\n",
        "import matplotlib.pyplot as plt\n",
        "mpl.rc('axes', labelsize=14)\n",
        "mpl.rc('xtick', labelsize=12)\n",
        "mpl.rc('ytick', labelsize=12)\n",
        "\n",
        "# Where to save the figures\n",
        "PROJECT_ROOT_DIR = \".\"\n",
        "CHAPTER_ID = \"unsupervised_learning\"\n",
        "IMAGES_PATH = os.path.join(PROJECT_ROOT_DIR, \"images\", CHAPTER_ID)\n",
        "os.makedirs(IMAGES_PATH, exist_ok=True)\n",
        "\n",
        "def save_fig(fig_id, tight_layout=True, fig_extension=\"png\", resolution=300):\n",
        "    path = os.path.join(IMAGES_PATH, fig_id + \".\" + fig_extension)\n",
        "    print(\"Saving figure\", fig_id)\n",
        "    if tight_layout:\n",
        "        plt.tight_layout()\n",
        "    plt.savefig(path, format=fig_extension, dpi=resolution)\n",
        "\n",
        "# Ignore useless warnings (see SciPy issue #5998)\n",
        "import warnings\n",
        "warnings.filterwarnings(action=\"ignore\", message=\"^internal gelsd\")"
      ],
      "execution_count": 0,
      "outputs": []
    },
    {
      "cell_type": "markdown",
      "metadata": {
        "id": "28sK2wf8xDFH",
        "colab_type": "text"
      },
      "source": [
        "Import the dataset."
      ]
    },
    {
      "cell_type": "code",
      "metadata": {
        "id": "-pDLJ2SHta08",
        "colab_type": "code",
        "outputId": "55eebb7e-879b-4ad5-96d4-23502cd4057f",
        "colab": {
          "base_uri": "https://localhost:8080/",
          "height": 50
        }
      },
      "source": [
        "from sklearn.model_selection import StratifiedShuffleSplit\n",
        "\n",
        "(X_train, y_train), (X_test, y_test) = tf.keras.datasets.mnist.load_data()"
      ],
      "execution_count": 0,
      "outputs": [
        {
          "output_type": "stream",
          "text": [
            "Downloading data from https://storage.googleapis.com/tensorflow/tf-keras-datasets/mnist.npz\n",
            "11493376/11490434 [==============================] - 0s 0us/step\n"
          ],
          "name": "stdout"
        }
      ]
    },
    {
      "cell_type": "markdown",
      "metadata": {
        "id": "IzmKXwj7HLMJ",
        "colab_type": "text"
      },
      "source": [
        "MNIST is one of the well-known mature machine learning dataset. We know there's no missing data involved, therefore, the only thing we need to do is scaling the data from [0-255] to [0-1]."
      ]
    },
    {
      "cell_type": "code",
      "metadata": {
        "id": "Z_mBjfgpkWpd",
        "colab_type": "code",
        "colab": {}
      },
      "source": [
        "X_train = X_train.astype('float32') / 255.0\n",
        "X_test = X_test.astype('float32') / 255.0"
      ],
      "execution_count": 0,
      "outputs": []
    },
    {
      "cell_type": "code",
      "metadata": {
        "id": "o0x_uP5Ytpzh",
        "colab_type": "code",
        "outputId": "f3a861fd-2e2e-476b-d2a0-7291aad12d6b",
        "colab": {
          "base_uri": "https://localhost:8080/",
          "height": 34
        }
      },
      "source": [
        "X_train.shape"
      ],
      "execution_count": 0,
      "outputs": [
        {
          "output_type": "execute_result",
          "data": {
            "text/plain": [
              "(60000, 28, 28)"
            ]
          },
          "metadata": {
            "tags": []
          },
          "execution_count": 4
        }
      ]
    },
    {
      "cell_type": "markdown",
      "metadata": {
        "id": "ry_mnC10xKnV",
        "colab_type": "text"
      },
      "source": [
        "In order to perform further training, the datasets hereby are transformed into 2-dimension arrays."
      ]
    },
    {
      "cell_type": "code",
      "metadata": {
        "id": "iEJ6GubvuNSK",
        "colab_type": "code",
        "colab": {}
      },
      "source": [
        "X_train_2d = X_train.reshape(60000,-1)\n",
        "X_train_2d.shape\n",
        "X_test_2d = X_test.reshape(10000,-1)"
      ],
      "execution_count": 0,
      "outputs": []
    },
    {
      "cell_type": "code",
      "metadata": {
        "id": "VQBTRC1x44Wv",
        "colab_type": "code",
        "outputId": "2f8af4f4-e00d-4bbe-ba55-577dc96d96b1",
        "colab": {
          "base_uri": "https://localhost:8080/",
          "height": 35
        }
      },
      "source": [
        "X_train_2d.shape"
      ],
      "execution_count": 0,
      "outputs": [
        {
          "output_type": "execute_result",
          "data": {
            "text/plain": [
              "(60000, 784)"
            ]
          },
          "metadata": {
            "tags": []
          },
          "execution_count": 46
        }
      ]
    },
    {
      "cell_type": "markdown",
      "metadata": {
        "id": "gG_aRYNhfkX3",
        "colab_type": "text"
      },
      "source": [
        "# First, we take all images that tagged with 5 as a set."
      ]
    },
    {
      "cell_type": "code",
      "metadata": {
        "id": "iPW5XCqi4Me3",
        "colab_type": "code",
        "outputId": "b45b992b-b376-4feb-e90b-6541a751f4b0",
        "colab": {
          "base_uri": "https://localhost:8080/",
          "height": 34
        }
      },
      "source": [
        "X_train_5 = []\n",
        "for i in range(len(X_train_2d)):\n",
        "  if y_train[i]==5:\n",
        "    X_train_5.append(X_train_2d[i])\n",
        "X_train_5=np.asarray(X_train_5)\n",
        "X_train_5.shape"
      ],
      "execution_count": 0,
      "outputs": [
        {
          "output_type": "execute_result",
          "data": {
            "text/plain": [
              "(5421, 784)"
            ]
          },
          "metadata": {
            "tags": []
          },
          "execution_count": 36
        }
      ]
    },
    {
      "cell_type": "markdown",
      "metadata": {
        "id": "FmCmHWzkox0w",
        "colab_type": "text"
      },
      "source": [
        "There are 5,421 images that is \"5\"."
      ]
    },
    {
      "cell_type": "markdown",
      "metadata": {
        "id": "UvCkxTeVf0mA",
        "colab_type": "text"
      },
      "source": [
        "Hereby we validate that the obtained dataset is correct by plotting some sample images."
      ]
    },
    {
      "cell_type": "code",
      "metadata": {
        "id": "Tv-S53tx5OWU",
        "colab_type": "code",
        "outputId": "01e60764-400c-4867-9a1b-4d89d27ee6b0",
        "colab": {
          "base_uri": "https://localhost:8080/",
          "height": 248
        }
      },
      "source": [
        "some_pic = X_train_5[111]\n",
        "some_pic_image = some_pic.reshape(28, 28)\n",
        "plt.imshow(some_pic_image, cmap=mpl.cm.binary)\n",
        "plt.axis(\"off\")\n",
        "\n",
        "#save_fig(\"some_pic_plot\")\n",
        "plt.show()"
      ],
      "execution_count": 0,
      "outputs": [
        {
          "output_type": "display_data",
          "data": {
            "image/png": "[encoded data removed]",
            "text/plain": [
              "<Figure size 432x288 with 1 Axes>"
            ]
          },
          "metadata": {
            "tags": []
          }
        }
      ]
    },
    {
      "cell_type": "markdown",
      "metadata": {
        "id": "DSZsJ5Xfpelv",
        "colab_type": "text"
      },
      "source": [
        "Next, we'll train Kmeans models with k from 1 to 10 and show the inertias.\n",
        "By performing k-means clustering on this sub-datasets with all images tagged with 5, we are actually looking for the best way to separate major distinctive components of these handwritten \"5\"s. "
      ]
    },
    {
      "cell_type": "code",
      "metadata": {
        "id": "lPhjKnSOtx0b",
        "colab_type": "code",
        "colab": {}
      },
      "source": [
        "kmeans_per_k = [KMeans(n_clusters=k, random_state=42).fit(X_train_5)\n",
        "                for k in range(1, 10)]\n",
        "inertias = [model.inertia_ for model in kmeans_per_k]"
      ],
      "execution_count": 0,
      "outputs": []
    },
    {
      "cell_type": "code",
      "metadata": {
        "id": "xsCPCNYs08Jl",
        "colab_type": "code",
        "outputId": "ace12a41-e491-4589-adfe-7296073b3db2",
        "colab": {
          "base_uri": "https://localhost:8080/",
          "height": 177
        }
      },
      "source": [
        "inertias "
      ],
      "execution_count": 0,
      "outputs": [
        {
          "output_type": "execute_result",
          "data": {
            "text/plain": [
              "[257936.69,\n",
              " 225488.1807217207,\n",
              " 209975.76170453263,\n",
              " 201279.8056183408,\n",
              " 195169.51277534536,\n",
              " 190335.951916044,\n",
              " 186562.66313614574,\n",
              " 183003.26347922298,\n",
              " 179796.49017720844]"
            ]
          },
          "metadata": {
            "tags": []
          },
          "execution_count": 70
        }
      ]
    },
    {
      "cell_type": "code",
      "metadata": {
        "id": "uTb8Bxdouvxm",
        "colab_type": "code",
        "outputId": "d9f96493-d497-4be2-f9cb-b6d6a8f560b9",
        "colab": {
          "base_uri": "https://localhost:8080/",
          "height": 279
        }
      },
      "source": [
        "plt.figure(figsize=(8, 3.5))\n",
        "plt.plot(range(1, 10), inertias, \"bo-\")\n",
        "plt.xlabel(\"$k$\", fontsize=14)\n",
        "plt.ylabel(\"Inertia\", fontsize=14)\n",
        "plt.annotate('Elbow',\n",
        "             xy=(2.1, inertias[1]),\n",
        "             xytext=(0.3, 0.85),\n",
        "             textcoords='figure fraction',\n",
        "             fontsize=16,\n",
        "             arrowprops=dict(facecolor='black', shrink=0.1)\n",
        "            )\n",
        "plt.axis([1, 9, 170000, 260000])\n",
        "save_fig(\"inertia_vs_k_plot\")\n",
        "plt.show()"
      ],
      "execution_count": 0,
      "outputs": [
        {
          "output_type": "stream",
          "text": [
            "Saving figure inertia_vs_k_plot\n"
          ],
          "name": "stdout"
        },
        {
          "output_type": "display_data",
          "data": {
            "image/png": "[encoded data removed]",
            "text/plain": [
              "<Figure size 576x252 with 1 Axes>"
            ]
          },
          "metadata": {
            "tags": []
          }
        }
      ]
    },
    {
      "cell_type": "markdown",
      "metadata": {
        "id": "iMyEkAIIsXZ8",
        "colab_type": "text"
      },
      "source": [
        "Then let's take a look at the silhouette score, which is the mean silhouette coefficient over all the instances. "
      ]
    },
    {
      "cell_type": "code",
      "metadata": {
        "id": "b76cWY9G10aS",
        "colab_type": "code",
        "colab": {}
      },
      "source": [
        "from sklearn.metrics import silhouette_score\n",
        "silhouette_scores = [silhouette_score(X_train_5, model.labels_)\n",
        "                     for model in kmeans_per_k[1:]]"
      ],
      "execution_count": 0,
      "outputs": []
    },
    {
      "cell_type": "code",
      "metadata": {
        "id": "V7WZWaKU8HGm",
        "colab_type": "code",
        "outputId": "c9459951-fcb8-4c97-8703-3482bd8390fe",
        "colab": {
          "base_uri": "https://localhost:8080/",
          "height": 243
        }
      },
      "source": [
        "plt.figure(figsize=(8, 3))\n",
        "plt.plot(range(2, 10), silhouette_scores, \"bo-\")\n",
        "plt.xlabel(\"$k$\", fontsize=14)\n",
        "plt.ylabel(\"Silhouette score\", fontsize=14)\n",
        "plt.axis([1.8, 9.5, 0.05, 0.13])\n",
        "save_fig(\"silhouette_score_vs_k_plot\")\n",
        "plt.show()"
      ],
      "execution_count": 0,
      "outputs": [
        {
          "output_type": "stream",
          "text": [
            "Saving figure silhouette_score_vs_k_plot\n"
          ],
          "name": "stdout"
        },
        {
          "output_type": "display_data",
          "data": {
            "image/png": "[encoded data removed]",
            "text/plain": [
              "<Figure size 576x216 with 1 Axes>"
            ]
          },
          "metadata": {
            "tags": []
          }
        }
      ]
    },
    {
      "cell_type": "code",
      "metadata": {
        "id": "e4BY8VWE8AYW",
        "colab_type": "code",
        "outputId": "397922a7-4ffe-4d2f-e7eb-697180cb8b60",
        "colab": {
          "base_uri": "https://localhost:8080/",
          "height": 675
        }
      },
      "source": [
        "from sklearn.metrics import silhouette_samples\n",
        "from matplotlib.ticker import FixedLocator, FixedFormatter\n",
        "\n",
        "plt.figure(figsize=(11, 9))\n",
        "\n",
        "for k in (2, 3, 4, 5):\n",
        "    plt.subplot(2, 2, k - 1)\n",
        "    \n",
        "    y_pred = kmeans_per_k[k - 0].labels_\n",
        "    silhouette_coefficients = silhouette_samples(X_train_5, y_pred)\n",
        "\n",
        "    padding = len(X_train_5) // 30\n",
        "    pos = padding\n",
        "    ticks = []\n",
        "    for i in range(k):\n",
        "        coeffs = silhouette_coefficients[y_pred == i]\n",
        "        coeffs.sort()\n",
        "\n",
        "        color = mpl.cm.Spectral(i / k)\n",
        "        plt.fill_betweenx(np.arange(pos, pos + len(coeffs)), 0, coeffs,\n",
        "                          facecolor=color, edgecolor=color, alpha=0.7)\n",
        "        ticks.append(pos + len(coeffs) // 2)\n",
        "        pos += len(coeffs) + padding\n",
        "\n",
        "    plt.gca().yaxis.set_major_locator(FixedLocator(ticks))\n",
        "    plt.gca().yaxis.set_major_formatter(FixedFormatter(range(k)))\n",
        "    if k in (3, 4):\n",
        "        plt.ylabel(\"Cluster\")\n",
        "    \n",
        "    if k in (4, 5):\n",
        "        plt.gca().set_xticks([-0.1, 0, 0.2, 0.4, 0.6, 0.8, 1])\n",
        "        plt.xlabel(\"Silhouette Coefficient\")\n",
        "    else:\n",
        "        plt.tick_params(labelbottom=False)\n",
        "\n",
        "    plt.axvline(x=silhouette_scores[k - 1], color=\"red\", linestyle=\"--\")\n",
        "    plt.title(\"$k={}$\".format(k), fontsize=16)\n",
        "\n",
        "save_fig(\"silhouette_analysis_plot\")\n",
        "plt.show()"
      ],
      "execution_count": 0,
      "outputs": [
        {
          "output_type": "stream",
          "text": [
            "Saving figure silhouette_analysis_plot\n"
          ],
          "name": "stdout"
        },
        {
          "output_type": "display_data",
          "data": {
            "image/png": "[encoded data removed]",
            "text/plain": [
              "<Figure size 792x648 with 4 Axes>"
            ]
          },
          "metadata": {
            "tags": []
          }
        }
      ]
    },
    {
      "cell_type": "markdown",
      "metadata": {
        "id": "yXwbpZpRoHzm",
        "colab_type": "text"
      },
      "source": [
        "From the Silhouette Coefficient charts we observed that actually, K = 2,3,4,5 are all good choices for clustering because all the clusters are higher than the dash line presented in each chart. \n",
        "\n",
        "Next, we take a look at the chart of Silhouette score that K=2 has the highest value. \n",
        "\n",
        "Therefore, combined inertia and silhouette scores, the best k is 2."
      ]
    },
    {
      "cell_type": "markdown",
      "metadata": {
        "id": "fNMsR4ofg7yY",
        "colab_type": "text"
      },
      "source": [
        "# Next, we take all images that tagged with 0 as a set."
      ]
    },
    {
      "cell_type": "code",
      "metadata": {
        "id": "ijDyVYdiglLB",
        "colab_type": "code",
        "outputId": "0ecb5be0-d822-41bb-bd78-3e86cb96ad53",
        "colab": {
          "base_uri": "https://localhost:8080/",
          "height": 34
        }
      },
      "source": [
        "X_train_0 = []\n",
        "for i in range(len(X_train_2d)):\n",
        "  if y_train[i]==0:\n",
        "    X_train_0.append(X_train_2d[i])\n",
        "X_train_0=np.asarray(X_train_0)\n",
        "X_train_0.shape"
      ],
      "execution_count": 0,
      "outputs": [
        {
          "output_type": "execute_result",
          "data": {
            "text/plain": [
              "(5923, 784)"
            ]
          },
          "metadata": {
            "tags": []
          },
          "execution_count": 37
        }
      ]
    },
    {
      "cell_type": "markdown",
      "metadata": {
        "id": "yb1S5HbVo4Hl",
        "colab_type": "text"
      },
      "source": [
        "There are 5,923 images that is \"0\"."
      ]
    },
    {
      "cell_type": "markdown",
      "metadata": {
        "id": "HsR1sMTihNLs",
        "colab_type": "text"
      },
      "source": [
        "Let's valid that the obtained dataset is correct by plot some sample images."
      ]
    },
    {
      "cell_type": "code",
      "metadata": {
        "id": "cBjp_30zhKfA",
        "colab_type": "code",
        "outputId": "77221af6-ebd3-4434-e0b9-6246ef3c8735",
        "colab": {
          "base_uri": "https://localhost:8080/",
          "height": 248
        }
      },
      "source": [
        "some_pic = X_train_0[222]\n",
        "some_pic_image = some_pic.reshape(28, 28)\n",
        "plt.imshow(some_pic_image, cmap=mpl.cm.binary)\n",
        "plt.axis(\"off\")\n",
        "\n",
        "#save_fig(\"some_pic_plot\")\n",
        "plt.show()"
      ],
      "execution_count": 0,
      "outputs": [
        {
          "output_type": "display_data",
          "data": {
            "image/png": "[encoded data removed]",
            "text/plain": [
              "<Figure size 432x288 with 1 Axes>"
            ]
          },
          "metadata": {
            "tags": []
          }
        }
      ]
    },
    {
      "cell_type": "markdown",
      "metadata": {
        "id": "JrAuuV6kpvoj",
        "colab_type": "text"
      },
      "source": [
        "Next, we'll train Kmeans models with k from 1 to 10 and show the inertias."
      ]
    },
    {
      "cell_type": "code",
      "metadata": {
        "id": "D_SoQUz1hcdQ",
        "colab_type": "code",
        "outputId": "0d227eb7-5e9d-4dae-b4f5-c674af1f4dc0",
        "colab": {
          "base_uri": "https://localhost:8080/",
          "height": 177
        }
      },
      "source": [
        "kmeans_per_k = [KMeans(n_clusters=k, random_state=42).fit(X_train_0)\n",
        "                for k in range(1, 10)]\n",
        "inertias = [model.inertia_ for model in kmeans_per_k]\n",
        "inertias"
      ],
      "execution_count": 0,
      "outputs": [
        {
          "output_type": "execute_result",
          "data": {
            "text/plain": [
              "[295669.56,\n",
              " 257077.23313073916,\n",
              " 235491.50418072584,\n",
              " 223175.91336492676,\n",
              " 214289.7449950732,\n",
              " 207295.15702267573,\n",
              " 201838.9245987715,\n",
              " 196784.88759259088,\n",
              " 192584.35493524396]"
            ]
          },
          "metadata": {
            "tags": []
          },
          "execution_count": 73
        }
      ]
    },
    {
      "cell_type": "code",
      "metadata": {
        "id": "DuYwEg20hidn",
        "colab_type": "code",
        "outputId": "779f555f-da5c-491c-d7b9-1461a100ecf2",
        "colab": {
          "base_uri": "https://localhost:8080/",
          "height": 279
        }
      },
      "source": [
        "plt.figure(figsize=(8, 3.5))\n",
        "plt.plot(range(1, 10), inertias, \"bo-\")\n",
        "plt.xlabel(\"$k$\", fontsize=14)\n",
        "plt.ylabel(\"Inertia\", fontsize=14)\n",
        "plt.annotate('Elbow',\n",
        "             xy=(2.1, inertias[1]),\n",
        "             xytext=(0.3, 0.85),\n",
        "             textcoords='figure fraction',\n",
        "             fontsize=16,\n",
        "             arrowprops=dict(facecolor='black', shrink=0.1)\n",
        "            )\n",
        "plt.axis([1, 9, 180000, 300000])\n",
        "save_fig(\"inertia_vs_k_plot\")\n",
        "plt.show()"
      ],
      "execution_count": 0,
      "outputs": [
        {
          "output_type": "stream",
          "text": [
            "Saving figure inertia_vs_k_plot\n"
          ],
          "name": "stdout"
        },
        {
          "output_type": "display_data",
          "data": {
            "image/png": "[encoded data removed]",
            "text/plain": [
              "<Figure size 576x252 with 1 Axes>"
            ]
          },
          "metadata": {
            "tags": []
          }
        }
      ]
    },
    {
      "cell_type": "markdown",
      "metadata": {
        "id": "M1rXGogRl3rt",
        "colab_type": "text"
      },
      "source": [
        "Then let's take a look at the silhouette score, which is the mean silhouette coefficient over all the instances."
      ]
    },
    {
      "cell_type": "code",
      "metadata": {
        "id": "p2WwCklPl1lV",
        "colab_type": "code",
        "outputId": "b5ca936b-14fa-4b59-daba-3d6d690f65fc",
        "colab": {
          "base_uri": "https://localhost:8080/",
          "height": 243
        }
      },
      "source": [
        "silhouette_scores = [silhouette_score(X_train_0, model.labels_)\n",
        "                     for model in kmeans_per_k[1:]]\n",
        "plt.figure(figsize=(8, 3))\n",
        "plt.plot(range(2, 10), silhouette_scores, \"bo-\")\n",
        "plt.xlabel(\"$k$\", fontsize=14)\n",
        "plt.ylabel(\"Silhouette score\", fontsize=14)\n",
        "plt.axis([1.8, 9.5, 0.05, 0.13])\n",
        "save_fig(\"silhouette_score_vs_k_plot\")\n",
        "plt.show()\n"
      ],
      "execution_count": 0,
      "outputs": [
        {
          "output_type": "stream",
          "text": [
            "Saving figure silhouette_score_vs_k_plot\n"
          ],
          "name": "stdout"
        },
        {
          "output_type": "display_data",
          "data": {
            "image/png": "[encoded data removed]",
            "text/plain": [
              "<Figure size 576x216 with 1 Axes>"
            ]
          },
          "metadata": {
            "tags": []
          }
        }
      ]
    },
    {
      "cell_type": "code",
      "metadata": {
        "id": "soPzj9ULmQJg",
        "colab_type": "code",
        "outputId": "3b6c0cb8-32b3-4199-bbc5-c3704655971b",
        "colab": {
          "base_uri": "https://localhost:8080/",
          "height": 675
        }
      },
      "source": [
        "plt.figure(figsize=(11, 9))\n",
        "\n",
        "for k in (2, 3, 4, 5):\n",
        "    plt.subplot(2, 2, k - 1)\n",
        "    \n",
        "    y_pred = kmeans_per_k[k - 0].labels_\n",
        "    silhouette_coefficients = silhouette_samples(X_train_0, y_pred)\n",
        "\n",
        "    padding = len(X_train_0) // 30\n",
        "    pos = padding\n",
        "    ticks = []\n",
        "    for i in range(k):\n",
        "        coeffs = silhouette_coefficients[y_pred == i]\n",
        "        coeffs.sort()\n",
        "\n",
        "        color = mpl.cm.Spectral(i / k)\n",
        "        plt.fill_betweenx(np.arange(pos, pos + len(coeffs)), 0, coeffs,\n",
        "                          facecolor=color, edgecolor=color, alpha=0.7)\n",
        "        ticks.append(pos + len(coeffs) // 2)\n",
        "        pos += len(coeffs) + padding\n",
        "\n",
        "    plt.gca().yaxis.set_major_locator(FixedLocator(ticks))\n",
        "    plt.gca().yaxis.set_major_formatter(FixedFormatter(range(k)))\n",
        "    if k in (3, 4):\n",
        "        plt.ylabel(\"Cluster\")\n",
        "    \n",
        "    if k in (4, 5):\n",
        "        plt.gca().set_xticks([-0.1, 0, 0.2, 0.4, 0.6, 0.8, 1])\n",
        "        plt.xlabel(\"Silhouette Coefficient\")\n",
        "    else:\n",
        "        plt.tick_params(labelbottom=False)\n",
        "\n",
        "    plt.axvline(x=silhouette_scores[k - 1], color=\"red\", linestyle=\"--\")\n",
        "    plt.title(\"$k={}$\".format(k), fontsize=16)\n",
        "\n",
        "save_fig(\"silhouette_analysis_plot\")\n",
        "plt.show()"
      ],
      "execution_count": 0,
      "outputs": [
        {
          "output_type": "stream",
          "text": [
            "Saving figure silhouette_analysis_plot\n"
          ],
          "name": "stdout"
        },
        {
          "output_type": "display_data",
          "data": {
            "image/png": "[encoded data removed]",
            "text/plain": [
              "<Figure size 792x648 with 4 Axes>"
            ]
          },
          "metadata": {
            "tags": []
          }
        }
      ]
    },
    {
      "cell_type": "markdown",
      "metadata": {
        "id": "n1K_xcWhodAV",
        "colab_type": "text"
      },
      "source": [
        "From the Silhouette Coefficient charts we observed that actually, K = 2,3,4,5 are all good choices for clustering because all the clusters are higher than the dash line presented in each chart. \n",
        "\n",
        "Next, we take a look at the chart of Silhouette score that K=2 has the highest value. \n",
        "\n",
        "Therefore, combined inertia and silhouette scores, the best k is 2."
      ]
    },
    {
      "cell_type": "markdown",
      "metadata": {
        "id": "J18JAkLBnxkw",
        "colab_type": "text"
      },
      "source": [
        "# Then, let's repeat the previous steps on image set of \"1\"."
      ]
    },
    {
      "cell_type": "code",
      "metadata": {
        "id": "PSxGq-g0ognJ",
        "colab_type": "code",
        "outputId": "57844ad0-1dc9-45d2-9ad5-a507d02caca0",
        "colab": {
          "base_uri": "https://localhost:8080/",
          "height": 34
        }
      },
      "source": [
        "X_train_1 = []\n",
        "for i in range(len(X_train_2d)):\n",
        "  if y_train[i]==1:\n",
        "    X_train_1.append(X_train_2d[i])\n",
        "X_train_1=np.asarray(X_train_1)\n",
        "X_train_1.shape"
      ],
      "execution_count": 0,
      "outputs": [
        {
          "output_type": "execute_result",
          "data": {
            "text/plain": [
              "(6742, 784)"
            ]
          },
          "metadata": {
            "tags": []
          },
          "execution_count": 38
        }
      ]
    },
    {
      "cell_type": "markdown",
      "metadata": {
        "id": "qm_KcceqpPl-",
        "colab_type": "text"
      },
      "source": [
        "There are 6,742 images that is \"1\"."
      ]
    },
    {
      "cell_type": "markdown",
      "metadata": {
        "id": "Nm42tuP5pTKH",
        "colab_type": "text"
      },
      "source": [
        "Hereby we valid the obtained dataset is correct by plot some sample images."
      ]
    },
    {
      "cell_type": "code",
      "metadata": {
        "id": "ZGypp42LpC5u",
        "colab_type": "code",
        "outputId": "e3208f30-4ef0-4289-93be-417c616abc0b",
        "colab": {
          "base_uri": "https://localhost:8080/",
          "height": 248
        }
      },
      "source": [
        "some_pic = X_train_1[333]\n",
        "some_pic_image = some_pic.reshape(28, 28)\n",
        "plt.imshow(some_pic_image, cmap=mpl.cm.binary)\n",
        "plt.axis(\"off\")\n",
        "\n",
        "#save_fig(\"some_pic_plot\")\n",
        "plt.show()"
      ],
      "execution_count": 0,
      "outputs": [
        {
          "output_type": "display_data",
          "data": {
            "image/png": "[encoded data removed]",
            "text/plain": [
              "<Figure size 432x288 with 1 Axes>"
            ]
          },
          "metadata": {
            "tags": []
          }
        }
      ]
    },
    {
      "cell_type": "markdown",
      "metadata": {
        "id": "zZaMTI3Up03f",
        "colab_type": "text"
      },
      "source": [
        "Next, we'll train Kmeans models with k from 1 to 10 and show the inertias."
      ]
    },
    {
      "cell_type": "code",
      "metadata": {
        "id": "9JdjebPXpOeK",
        "colab_type": "code",
        "outputId": "ceef8c4f-58f3-4c50-a3a8-16fcf111029a",
        "colab": {
          "base_uri": "https://localhost:8080/",
          "height": 177
        }
      },
      "source": [
        "kmeans_per_k = [KMeans(n_clusters=k, random_state=42).fit(X_train_1)\n",
        "                for k in range(1, 10)]\n",
        "inertias = [model.inertia_ for model in kmeans_per_k]\n",
        "\n",
        "inertias"
      ],
      "execution_count": 0,
      "outputs": [
        {
          "output_type": "execute_result",
          "data": {
            "text/plain": [
              "[151530.62,\n",
              " 107987.4998291857,\n",
              " 91598.63445507255,\n",
              " 82791.3526300055,\n",
              " 78205.82149241774,\n",
              " 74857.43954407316,\n",
              " 71635.05321992845,\n",
              " 69234.45198628683,\n",
              " 67351.15109910416]"
            ]
          },
          "metadata": {
            "tags": []
          },
          "execution_count": 81
        }
      ]
    },
    {
      "cell_type": "code",
      "metadata": {
        "id": "3aPiU2B1qUt3",
        "colab_type": "code",
        "outputId": "e9e47840-c7f4-4244-ccd2-2bd6a2889844",
        "colab": {
          "base_uri": "https://localhost:8080/",
          "height": 279
        }
      },
      "source": [
        "plt.figure(figsize=(8, 3.5))\n",
        "plt.plot(range(1, 10), inertias, \"bo-\")\n",
        "plt.xlabel(\"$k$\", fontsize=14)\n",
        "plt.ylabel(\"Inertia\", fontsize=14)\n",
        "plt.annotate('Elbow',\n",
        "             xy=(2.2, inertias[1]),\n",
        "             xytext=(0.3, 0.85),\n",
        "             textcoords='figure fraction',\n",
        "             fontsize=16,\n",
        "             arrowprops=dict(facecolor='black', shrink=0.1)\n",
        "            )\n",
        "plt.axis([1, 9, 60000, 160000])\n",
        "save_fig(\"inertia_vs_k_plot\")\n",
        "plt.show()"
      ],
      "execution_count": 0,
      "outputs": [
        {
          "output_type": "stream",
          "text": [
            "Saving figure inertia_vs_k_plot\n"
          ],
          "name": "stdout"
        },
        {
          "output_type": "display_data",
          "data": {
            "image/png": "[encoded data removed]",
            "text/plain": [
              "<Figure size 576x252 with 1 Axes>"
            ]
          },
          "metadata": {
            "tags": []
          }
        }
      ]
    },
    {
      "cell_type": "markdown",
      "metadata": {
        "id": "L5V93Uczq94v",
        "colab_type": "text"
      },
      "source": [
        "Then let's take a look at the silhouette score, which is the mean silhouette coefficient over all the instances."
      ]
    },
    {
      "cell_type": "code",
      "metadata": {
        "id": "p5yBgfeIq_mS",
        "colab_type": "code",
        "outputId": "6c6fab0b-0baf-452d-c67d-5e72069de3be",
        "colab": {
          "base_uri": "https://localhost:8080/",
          "height": 243
        }
      },
      "source": [
        "silhouette_scores = [silhouette_score(X_train_1, model.labels_)\n",
        "                     for model in kmeans_per_k[1:]]\n",
        "                     \n",
        "plt.figure(figsize=(8, 3))\n",
        "plt.plot(range(2, 10), silhouette_scores, \"bo-\")\n",
        "plt.xlabel(\"$k$\", fontsize=14)\n",
        "plt.ylabel(\"Silhouette score\", fontsize=14)\n",
        "plt.axis([1.8, 9.5, 0.12, 0.28])\n",
        "save_fig(\"silhouette_score_vs_k_plot\")\n",
        "plt.show()"
      ],
      "execution_count": 0,
      "outputs": [
        {
          "output_type": "stream",
          "text": [
            "Saving figure silhouette_score_vs_k_plot\n"
          ],
          "name": "stdout"
        },
        {
          "output_type": "display_data",
          "data": {
            "image/png": "[encoded data removed]",
            "text/plain": [
              "<Figure size 576x216 with 1 Axes>"
            ]
          },
          "metadata": {
            "tags": []
          }
        }
      ]
    },
    {
      "cell_type": "code",
      "metadata": {
        "id": "WwWbgd-SrG80",
        "colab_type": "code",
        "outputId": "bf930b05-15cb-4215-dba4-286965365a51",
        "colab": {
          "base_uri": "https://localhost:8080/",
          "height": 675
        }
      },
      "source": [
        "plt.figure(figsize=(11, 9))\n",
        "\n",
        "for k in (2, 3, 4, 5):\n",
        "    plt.subplot(2, 2, k - 1)\n",
        "    \n",
        "    y_pred = kmeans_per_k[k - 0].labels_\n",
        "    silhouette_coefficients = silhouette_samples(X_train_1, y_pred)\n",
        "\n",
        "    padding = len(X_train_1) // 30\n",
        "    pos = padding\n",
        "    ticks = []\n",
        "    for i in range(k):\n",
        "        coeffs = silhouette_coefficients[y_pred == i]\n",
        "        coeffs.sort()\n",
        "\n",
        "        color = mpl.cm.Spectral(i / k)\n",
        "        plt.fill_betweenx(np.arange(pos, pos + len(coeffs)), 0, coeffs,\n",
        "                          facecolor=color, edgecolor=color, alpha=0.7)\n",
        "        ticks.append(pos + len(coeffs) // 2)\n",
        "        pos += len(coeffs) + padding\n",
        "\n",
        "    plt.gca().yaxis.set_major_locator(FixedLocator(ticks))\n",
        "    plt.gca().yaxis.set_major_formatter(FixedFormatter(range(k)))\n",
        "    if k in (3, 4):\n",
        "        plt.ylabel(\"Cluster\")\n",
        "    \n",
        "    if k in (4, 5):\n",
        "        plt.gca().set_xticks([-0.1, 0, 0.2, 0.4, 0.6, 0.8, 1])\n",
        "        plt.xlabel(\"Silhouette Coefficient\")\n",
        "    else:\n",
        "        plt.tick_params(labelbottom=False)\n",
        "\n",
        "    plt.axvline(x=silhouette_scores[k - 1], color=\"red\", linestyle=\"--\")\n",
        "    plt.title(\"$k={}$\".format(k), fontsize=16)\n",
        "\n",
        "save_fig(\"silhouette_analysis_plot\")\n",
        "plt.show()"
      ],
      "execution_count": 0,
      "outputs": [
        {
          "output_type": "stream",
          "text": [
            "Saving figure silhouette_analysis_plot\n"
          ],
          "name": "stdout"
        },
        {
          "output_type": "display_data",
          "data": {
            "image/png": "[encoded data removed]",
            "text/plain": [
              "<Figure size 792x648 with 4 Axes>"
            ]
          },
          "metadata": {
            "tags": []
          }
        }
      ]
    },
    {
      "cell_type": "markdown",
      "metadata": {
        "id": "3CAM9-WMryTD",
        "colab_type": "text"
      },
      "source": [
        "From the Silhouette Coefficient charts we observed that actually, K = 2,3,4,5 are all good choices for clustering because all the clusters are higher than the dash line presented in each chart. \n",
        "\n",
        "Next, we take a look at the chart of Silhouette score that K=2 has the highest value. \n",
        "\n",
        "Therefore, combined inertia and silhouette scores, the best k is 2."
      ]
    },
    {
      "cell_type": "markdown",
      "metadata": {
        "id": "pqWLNSopr3jB",
        "colab_type": "text"
      },
      "source": [
        "# Then, let's repeat the previous steps on image set of \"4\"."
      ]
    },
    {
      "cell_type": "code",
      "metadata": {
        "id": "zi2oeFW_sEtD",
        "colab_type": "code",
        "outputId": "19b60c72-bfc1-434c-aa52-f7d3da84017c",
        "colab": {
          "base_uri": "https://localhost:8080/",
          "height": 34
        }
      },
      "source": [
        "X_train_4 = []\n",
        "for i in range(len(X_train_2d)):\n",
        "  if y_train[i]==4:\n",
        "    X_train_4.append(X_train_2d[i])\n",
        "X_train_4=np.asarray(X_train_4)\n",
        "X_train_4.shape"
      ],
      "execution_count": 0,
      "outputs": [
        {
          "output_type": "execute_result",
          "data": {
            "text/plain": [
              "(5842, 784)"
            ]
          },
          "metadata": {
            "tags": []
          },
          "execution_count": 39
        }
      ]
    },
    {
      "cell_type": "markdown",
      "metadata": {
        "id": "Bf4vcsw2sLzT",
        "colab_type": "text"
      },
      "source": [
        "There are 5,842 images that is \"1\"."
      ]
    },
    {
      "cell_type": "markdown",
      "metadata": {
        "id": "xDAjf81HsPZW",
        "colab_type": "text"
      },
      "source": [
        "Hereby we valid the obtained dataset is correct by plot some sample images."
      ]
    },
    {
      "cell_type": "code",
      "metadata": {
        "id": "RfDuQurJsRsF",
        "colab_type": "code",
        "outputId": "2fa2153e-1633-484e-c215-793973aca3ed",
        "colab": {
          "base_uri": "https://localhost:8080/",
          "height": 248
        }
      },
      "source": [
        "some_pic = X_train_4[444]\n",
        "some_pic_image = some_pic.reshape(28, 28)\n",
        "plt.imshow(some_pic_image, cmap=mpl.cm.binary)\n",
        "plt.axis(\"off\")\n",
        "\n",
        "#save_fig(\"some_pic_plot\")\n",
        "plt.show()"
      ],
      "execution_count": 0,
      "outputs": [
        {
          "output_type": "display_data",
          "data": {
            "image/png": "[encoded data removed]",
            "text/plain": [
              "<Figure size 432x288 with 1 Axes>"
            ]
          },
          "metadata": {
            "tags": []
          }
        }
      ]
    },
    {
      "cell_type": "markdown",
      "metadata": {
        "id": "tHXKMRfFsXXh",
        "colab_type": "text"
      },
      "source": [
        "Next, we'll train Kmeans models with k from 1 to 10 and show the inertias."
      ]
    },
    {
      "cell_type": "code",
      "metadata": {
        "id": "N0_1uXRtsYdB",
        "colab_type": "code",
        "outputId": "8f8ad534-10bd-460f-e50b-d1f85d8e24c5",
        "colab": {
          "base_uri": "https://localhost:8080/",
          "height": 177
        }
      },
      "source": [
        "kmeans_per_k = [KMeans(n_clusters=k, random_state=42).fit(X_train_4)\n",
        "                for k in range(1, 10)]\n",
        "inertias = [model.inertia_ for model in kmeans_per_k]\n",
        "inertias"
      ],
      "execution_count": 0,
      "outputs": [
        {
          "output_type": "execute_result",
          "data": {
            "text/plain": [
              "[238776.12,\n",
              " 217399.23339977593,\n",
              " 204581.40602276454,\n",
              " 196078.6788117555,\n",
              " 189592.81951648934,\n",
              " 184495.00360708046,\n",
              " 180442.68661409718,\n",
              " 176990.3547738334,\n",
              " 173890.18326893199]"
            ]
          },
          "metadata": {
            "tags": []
          },
          "execution_count": 95
        }
      ]
    },
    {
      "cell_type": "code",
      "metadata": {
        "id": "3AbNtsmZsdkM",
        "colab_type": "code",
        "outputId": "1f1ef582-a026-4dff-b235-14717b1bd180",
        "colab": {
          "base_uri": "https://localhost:8080/",
          "height": 275
        }
      },
      "source": [
        "plt.figure(figsize=(8, 3.5))\n",
        "plt.plot(range(1, 10), inertias, \"bo-\")\n",
        "plt.xlabel(\"$k$\", fontsize=14)\n",
        "plt.ylabel(\"Inertia\", fontsize=14)\n",
        "plt.annotate('Elbow',\n",
        "             xy=(2.1, inertias[1]),\n",
        "             xytext=(0.3, 0.85),\n",
        "             textcoords='figure fraction',\n",
        "             fontsize=16,\n",
        "             arrowprops=dict(facecolor='black', shrink=0.1)\n",
        "            )\n",
        "plt.axis([1, 9, 170000, 245000])\n",
        "save_fig(\"inertia_vs_k_plot\")\n",
        "plt.show()"
      ],
      "execution_count": 0,
      "outputs": [
        {
          "output_type": "stream",
          "text": [
            "Saving figure inertia_vs_k_plot\n"
          ],
          "name": "stdout"
        },
        {
          "output_type": "display_data",
          "data": {
            "image/png": "[encoded data removed]",
            "text/plain": [
              "<Figure size 576x252 with 1 Axes>"
            ]
          },
          "metadata": {
            "tags": []
          }
        }
      ]
    },
    {
      "cell_type": "markdown",
      "metadata": {
        "id": "FNKP2OtiszjL",
        "colab_type": "text"
      },
      "source": [
        "Then let's take a look at the silhouette score, which is the mean silhouette coefficient over all the instances."
      ]
    },
    {
      "cell_type": "code",
      "metadata": {
        "id": "h_M2O_80s0Wl",
        "colab_type": "code",
        "outputId": "d0927055-ba55-413b-83b5-9959c3ad37d4",
        "colab": {
          "base_uri": "https://localhost:8080/",
          "height": 243
        }
      },
      "source": [
        "silhouette_scores = [silhouette_score(X_train_4, model.labels_)\n",
        "                     for model in kmeans_per_k[1:]]\n",
        "                     \n",
        "plt.figure(figsize=(8, 3))\n",
        "plt.plot(range(2, 10), silhouette_scores, \"bo-\")\n",
        "plt.xlabel(\"$k$\", fontsize=14)\n",
        "plt.ylabel(\"Silhouette score\", fontsize=14)\n",
        "plt.axis([1.8, 9.5, 0.06, 0.10])\n",
        "save_fig(\"silhouette_score_vs_k_plot\")\n",
        "plt.show()"
      ],
      "execution_count": 0,
      "outputs": [
        {
          "output_type": "stream",
          "text": [
            "Saving figure silhouette_score_vs_k_plot\n"
          ],
          "name": "stdout"
        },
        {
          "output_type": "display_data",
          "data": {
            "image/png": "[encoded data removed]",
            "text/plain": [
              "<Figure size 576x216 with 1 Axes>"
            ]
          },
          "metadata": {
            "tags": []
          }
        }
      ]
    },
    {
      "cell_type": "code",
      "metadata": {
        "id": "bix9gq_UtKvj",
        "colab_type": "code",
        "outputId": "85bffeab-efd3-43d5-92fa-782d93518b87",
        "colab": {
          "base_uri": "https://localhost:8080/",
          "height": 675
        }
      },
      "source": [
        "plt.figure(figsize=(11, 9))\n",
        "\n",
        "for k in (2, 3, 4, 5):\n",
        "    plt.subplot(2, 2, k - 1)\n",
        "    \n",
        "    y_pred = kmeans_per_k[k - 0].labels_\n",
        "    silhouette_coefficients = silhouette_samples(X_train_4, y_pred)\n",
        "\n",
        "    padding = len(X_train_4) // 30\n",
        "    pos = padding\n",
        "    ticks = []\n",
        "    for i in range(k):\n",
        "        coeffs = silhouette_coefficients[y_pred == i]\n",
        "        coeffs.sort()\n",
        "\n",
        "        color = mpl.cm.Spectral(i / k)\n",
        "        plt.fill_betweenx(np.arange(pos, pos + len(coeffs)), 0, coeffs,\n",
        "                          facecolor=color, edgecolor=color, alpha=0.7)\n",
        "        ticks.append(pos + len(coeffs) // 2)\n",
        "        pos += len(coeffs) + padding\n",
        "\n",
        "    plt.gca().yaxis.set_major_locator(FixedLocator(ticks))\n",
        "    plt.gca().yaxis.set_major_formatter(FixedFormatter(range(k)))\n",
        "    if k in (3, 4):\n",
        "        plt.ylabel(\"Cluster\")\n",
        "    \n",
        "    if k in (4, 5):\n",
        "        plt.gca().set_xticks([-0.1, 0, 0.2, 0.4, 0.6, 0.8, 1])\n",
        "        plt.xlabel(\"Silhouette Coefficient\")\n",
        "    else:\n",
        "        plt.tick_params(labelbottom=False)\n",
        "\n",
        "    plt.axvline(x=silhouette_scores[k - 1], color=\"red\", linestyle=\"--\")\n",
        "    plt.title(\"$k={}$\".format(k), fontsize=16)\n",
        "\n",
        "save_fig(\"silhouette_analysis_plot\")\n",
        "plt.show()"
      ],
      "execution_count": 0,
      "outputs": [
        {
          "output_type": "stream",
          "text": [
            "Saving figure silhouette_analysis_plot\n"
          ],
          "name": "stdout"
        },
        {
          "output_type": "display_data",
          "data": {
            "image/png": "[encoded data removed]",
            "text/plain": [
              "<Figure size 792x648 with 4 Axes>"
            ]
          },
          "metadata": {
            "tags": []
          }
        }
      ]
    },
    {
      "cell_type": "markdown",
      "metadata": {
        "id": "uAszBnZatSxW",
        "colab_type": "text"
      },
      "source": [
        "From the Silhouette Coefficient charts we observed that actually, K = 2,3,4,5 are all good choices for clustering because all the clusters are higher than the dash line presented in each chart. \n",
        "\n",
        "Next, we take a look at the chart of Silhouette score that K=2 has the highest value. \n",
        "\n",
        "Therefore, combined inertia and silhouette scores, the best k is 2."
      ]
    },
    {
      "cell_type": "markdown",
      "metadata": {
        "id": "psX5Gjf31s9N",
        "colab_type": "text"
      },
      "source": [
        "# Train a classifier (LogisticRegression)"
      ]
    },
    {
      "cell_type": "markdown",
      "metadata": {
        "id": "-y54CxVctUkH",
        "colab_type": "text"
      },
      "source": [
        "Next, we'll train a classification model on the whole dataset instead of sub-sets and test its prediction rate. We use logistic regression as an example here."
      ]
    },
    {
      "cell_type": "code",
      "metadata": {
        "id": "NDQqVlhg98vp",
        "colab_type": "code",
        "outputId": "fb995636-884c-463d-cce0-48fb4d658f7e",
        "colab": {
          "base_uri": "https://localhost:8080/",
          "height": 35
        }
      },
      "source": [
        "from sklearn.linear_model import LogisticRegression\n",
        "log_reg = LogisticRegression(multi_class=\"ovr\", solver=\"lbfgs\", max_iter=10000, random_state=42)\n",
        "log_reg.fit(X_train_2d, y_train)\n",
        "log_reg.score(X_test_2d, y_test)"
      ],
      "execution_count": 0,
      "outputs": [
        {
          "output_type": "execute_result",
          "data": {
            "text/plain": [
              "0.9198"
            ]
          },
          "metadata": {
            "tags": []
          },
          "execution_count": 34
        }
      ]
    },
    {
      "cell_type": "markdown",
      "metadata": {
        "id": "jwGexXgixBS8",
        "colab_type": "text"
      },
      "source": [
        "The prediction accuracy is 91.98%. Let's see how is the performance after implementing the K-means algorithm."
      ]
    },
    {
      "cell_type": "code",
      "metadata": {
        "id": "mYXmU-iA_ckO",
        "colab_type": "code",
        "outputId": "4515c2ec-fc81-4fdd-b07b-2240d334f2a1",
        "colab": {
          "base_uri": "https://localhost:8080/",
          "height": 35
        }
      },
      "source": [
        "from sklearn.pipeline import Pipeline\n",
        "pipeline = Pipeline([\n",
        "    (\"kmeans\", KMeans(n_clusters=50, random_state=42)),\n",
        "    (\"log_reg\", LogisticRegression(multi_class=\"ovr\", solver=\"lbfgs\", max_iter=10000, random_state=42)),\n",
        "])\n",
        "pipeline.fit(X_train_2d, y_train)\n",
        "pipeline.score(X_test_2d, y_test)"
      ],
      "execution_count": 0,
      "outputs": [
        {
          "output_type": "execute_result",
          "data": {
            "text/plain": [
              "0.9125"
            ]
          },
          "metadata": {
            "tags": []
          },
          "execution_count": 37
        }
      ]
    },
    {
      "cell_type": "markdown",
      "metadata": {
        "id": "j5EVci6v4Iwz",
        "colab_type": "text"
      },
      "source": [
        "With cluster = 50, the accuracy doesn't show improvement, but get slice lower. Since this cluter number is arbitary. "
      ]
    },
    {
      "cell_type": "markdown",
      "metadata": {
        "id": "gHGImila4yqz",
        "colab_type": "text"
      },
      "source": [
        "Here we try to find the best k, when the accuracy score peaks."
      ]
    },
    {
      "cell_type": "markdown",
      "metadata": {
        "id": "4aJTzoDSBeQp",
        "colab_type": "text"
      },
      "source": [
        "In practice, we found out that it will take over 2 days to finish the execution of k-mean for k through 2 to 100. \n",
        "\n",
        "Therefore we chose k with in interval of 10 between 10 to 100 with 3 times of cross validation. Still, it takes more than 3 hours but acceptable in our limitation.\n",
        "\n",
        "---\n",
        "\n"
      ]
    },
    {
      "cell_type": "code",
      "metadata": {
        "id": "hHA8J6C048Al",
        "colab_type": "code",
        "outputId": "9a144f3f-08c1-42f8-bfe8-7d7d230613ae",
        "colab": {
          "base_uri": "https://localhost:8080/",
          "height": 1000
        }
      },
      "source": [
        "from sklearn.model_selection import GridSearchCV\n",
        "param_grid = dict(kmeans__n_clusters=range(10, 100, 10))\n",
        "grid_clf = GridSearchCV(pipeline, param_grid, cv=3, verbose=2)\n",
        "grid_clf.fit(X_train_2d, y_train)"
      ],
      "execution_count": 0,
      "outputs": [
        {
          "output_type": "stream",
          "text": [
            "Fitting 3 folds for each of 9 candidates, totalling 27 fits\n",
            "[CV] kmeans__n_clusters=10 ...........................................\n"
          ],
          "name": "stdout"
        },
        {
          "output_type": "stream",
          "text": [
            "[Parallel(n_jobs=1)]: Using backend SequentialBackend with 1 concurrent workers.\n"
          ],
          "name": "stderr"
        },
        {
          "output_type": "stream",
          "text": [
            "[CV] ............................ kmeans__n_clusters=10, total= 1.3min\n",
            "[CV] kmeans__n_clusters=10 ...........................................\n"
          ],
          "name": "stdout"
        },
        {
          "output_type": "stream",
          "text": [
            "[Parallel(n_jobs=1)]: Done   1 out of   1 | elapsed:  1.3min remaining:    0.0s\n"
          ],
          "name": "stderr"
        },
        {
          "output_type": "stream",
          "text": [
            "[CV] ............................ kmeans__n_clusters=10, total= 1.5min\n",
            "[CV] kmeans__n_clusters=10 ...........................................\n",
            "[CV] ............................ kmeans__n_clusters=10, total= 1.6min\n",
            "[CV] kmeans__n_clusters=20 ...........................................\n",
            "[CV] ............................ kmeans__n_clusters=20, total= 2.5min\n",
            "[CV] kmeans__n_clusters=20 ...........................................\n",
            "[CV] ............................ kmeans__n_clusters=20, total= 2.5min\n",
            "[CV] kmeans__n_clusters=20 ...........................................\n",
            "[CV] ............................ kmeans__n_clusters=20, total= 2.5min\n",
            "[CV] kmeans__n_clusters=30 ...........................................\n",
            "[CV] ............................ kmeans__n_clusters=30, total= 4.3min\n",
            "[CV] kmeans__n_clusters=30 ...........................................\n",
            "[CV] ............................ kmeans__n_clusters=30, total= 3.9min\n",
            "[CV] kmeans__n_clusters=30 ...........................................\n",
            "[CV] ............................ kmeans__n_clusters=30, total= 4.1min\n",
            "[CV] kmeans__n_clusters=40 ...........................................\n",
            "[CV] ............................ kmeans__n_clusters=40, total= 5.8min\n",
            "[CV] kmeans__n_clusters=40 ...........................................\n",
            "[CV] ............................ kmeans__n_clusters=40, total= 5.2min\n",
            "[CV] kmeans__n_clusters=40 ...........................................\n",
            "[CV] ............................ kmeans__n_clusters=40, total= 5.2min\n",
            "[CV] kmeans__n_clusters=50 ...........................................\n",
            "[CV] ............................ kmeans__n_clusters=50, total= 6.8min\n",
            "[CV] kmeans__n_clusters=50 ...........................................\n",
            "[CV] ............................ kmeans__n_clusters=50, total= 6.9min\n",
            "[CV] kmeans__n_clusters=50 ...........................................\n",
            "[CV] ............................ kmeans__n_clusters=50, total= 7.2min\n",
            "[CV] kmeans__n_clusters=60 ...........................................\n",
            "[CV] ............................ kmeans__n_clusters=60, total= 8.0min\n",
            "[CV] kmeans__n_clusters=60 ...........................................\n",
            "[CV] ............................ kmeans__n_clusters=60, total= 8.0min\n",
            "[CV] kmeans__n_clusters=60 ...........................................\n",
            "[CV] ............................ kmeans__n_clusters=60, total= 8.1min\n",
            "[CV] kmeans__n_clusters=70 ...........................................\n",
            "[CV] ............................ kmeans__n_clusters=70, total= 9.6min\n",
            "[CV] kmeans__n_clusters=70 ...........................................\n",
            "[CV] ............................ kmeans__n_clusters=70, total= 9.3min\n",
            "[CV] kmeans__n_clusters=70 ...........................................\n",
            "[CV] ............................ kmeans__n_clusters=70, total=10.4min\n",
            "[CV] kmeans__n_clusters=80 ...........................................\n",
            "[CV] ............................ kmeans__n_clusters=80, total=10.3min\n",
            "[CV] kmeans__n_clusters=80 ...........................................\n",
            "[CV] ............................ kmeans__n_clusters=80, total=10.9min\n",
            "[CV] kmeans__n_clusters=80 ...........................................\n",
            "[CV] ............................ kmeans__n_clusters=80, total=11.3min\n",
            "[CV] kmeans__n_clusters=90 ...........................................\n",
            "[CV] ............................ kmeans__n_clusters=90, total=12.4min\n",
            "[CV] kmeans__n_clusters=90 ...........................................\n",
            "[CV] ............................ kmeans__n_clusters=90, total=12.3min\n",
            "[CV] kmeans__n_clusters=90 ...........................................\n",
            "[CV] ............................ kmeans__n_clusters=90, total=11.6min\n"
          ],
          "name": "stdout"
        },
        {
          "output_type": "stream",
          "text": [
            "[Parallel(n_jobs=1)]: Done  27 out of  27 | elapsed: 183.4min finished\n"
          ],
          "name": "stderr"
        },
        {
          "output_type": "execute_result",
          "data": {
            "text/plain": [
              "GridSearchCV(cv=3, error_score=nan,\n",
              "             estimator=Pipeline(memory=None,\n",
              "                                steps=[('kmeans',\n",
              "                                        KMeans(algorithm='auto', copy_x=True,\n",
              "                                               init='k-means++', max_iter=300,\n",
              "                                               n_clusters=50, n_init=10,\n",
              "                                               n_jobs=None,\n",
              "                                               precompute_distances='auto',\n",
              "                                               random_state=42, tol=0.0001,\n",
              "                                               verbose=0)),\n",
              "                                       ('log_reg',\n",
              "                                        LogisticRegression(C=1.0,\n",
              "                                                           class_weight=None,\n",
              "                                                           dual=False,\n",
              "                                                           fit_intercept=True,\n",
              "                                                           intercept_scaling=1,\n",
              "                                                           l1_ratio=None,\n",
              "                                                           max_iter=10000,\n",
              "                                                           multi_class='ovr',\n",
              "                                                           n_jobs=None,\n",
              "                                                           penalty='l2',\n",
              "                                                           random_state=42,\n",
              "                                                           solver='lbfgs',\n",
              "                                                           tol=0.0001,\n",
              "                                                           verbose=0,\n",
              "                                                           warm_start=False))],\n",
              "                                verbose=False),\n",
              "             iid='deprecated', n_jobs=None,\n",
              "             param_grid={'kmeans__n_clusters': range(10, 100, 10)},\n",
              "             pre_dispatch='2*n_jobs', refit=True, return_train_score=False,\n",
              "             scoring=None, verbose=2)"
            ]
          },
          "metadata": {
            "tags": []
          },
          "execution_count": 38
        }
      ]
    },
    {
      "cell_type": "markdown",
      "metadata": {
        "id": "6pmGeobGurlw",
        "colab_type": "text"
      },
      "source": [
        "After 27 runs, let's check the best k for this model."
      ]
    },
    {
      "cell_type": "code",
      "metadata": {
        "id": "83dVJGBlB0BC",
        "colab_type": "code",
        "outputId": "91bad7c8-2f21-4b2c-c6ff-af7dcf163e32",
        "colab": {
          "base_uri": "https://localhost:8080/",
          "height": 35
        }
      },
      "source": [
        "grid_clf.best_params_"
      ],
      "execution_count": 0,
      "outputs": [
        {
          "output_type": "execute_result",
          "data": {
            "text/plain": [
              "{'kmeans__n_clusters': 90}"
            ]
          },
          "metadata": {
            "tags": []
          },
          "execution_count": 39
        }
      ]
    },
    {
      "cell_type": "code",
      "metadata": {
        "id": "LJ81WfN9B1-g",
        "colab_type": "code",
        "outputId": "dfdc2d63-833e-4a15-d42e-ed693df81cbe",
        "colab": {
          "base_uri": "https://localhost:8080/",
          "height": 35
        }
      },
      "source": [
        "grid_clf.score(X_test_2d, y_test)"
      ],
      "execution_count": 0,
      "outputs": [
        {
          "output_type": "execute_result",
          "data": {
            "text/plain": [
              "0.9337"
            ]
          },
          "metadata": {
            "tags": []
          },
          "execution_count": 40
        }
      ]
    },
    {
      "cell_type": "markdown",
      "metadata": {
        "id": "ceTFV6h_CJMR",
        "colab_type": "text"
      },
      "source": [
        "K,  from 10-90, the best value is 90, the accuracy increased from 91.98% to 93.37%"
      ]
    },
    {
      "cell_type": "markdown",
      "metadata": {
        "id": "K_8SZUjdCVbd",
        "colab_type": "text"
      },
      "source": [
        "# Using K-mean Clustering as Dismension Reduction for Classification"
      ]
    },
    {
      "cell_type": "markdown",
      "metadata": {
        "id": "TgX-BCuF6IF1",
        "colab_type": "text"
      },
      "source": [
        "First, let's train a random forrest classifier."
      ]
    },
    {
      "cell_type": "code",
      "metadata": {
        "id": "vo59HStuHIGD",
        "colab_type": "code",
        "outputId": "bc43c139-319f-4c1e-aedd-edf3ecadf746",
        "colab": {
          "base_uri": "https://localhost:8080/",
          "height": 34
        }
      },
      "source": [
        "from sklearn.ensemble import RandomForestClassifier\n",
        "import time\n",
        "t0 = time.time()\n",
        "clf = RandomForestClassifier(n_estimators=150, random_state=42)\n",
        "clf.fit(X_train_2d, y_train)\n",
        "t1 = time.time()\n",
        "print(\"Training took {:.2f}s\".format(t1 - t0))"
      ],
      "execution_count": 0,
      "outputs": [
        {
          "output_type": "stream",
          "text": [
            "Training took 66.41s\n"
          ],
          "name": "stdout"
        }
      ]
    },
    {
      "cell_type": "code",
      "metadata": {
        "id": "wTLR-lzbNe_S",
        "colab_type": "code",
        "outputId": "83348a00-fefc-4bd3-e855-df350bced34d",
        "colab": {
          "base_uri": "https://localhost:8080/",
          "height": 34
        }
      },
      "source": [
        "clf.score(X_test_2d, y_test)"
      ],
      "execution_count": 0,
      "outputs": [
        {
          "output_type": "execute_result",
          "data": {
            "text/plain": [
              "0.9706"
            ]
          },
          "metadata": {
            "tags": []
          },
          "execution_count": 6
        }
      ]
    },
    {
      "cell_type": "markdown",
      "metadata": {
        "id": "GVx7QSiEJKDM",
        "colab_type": "text"
      },
      "source": [
        "Next, we'll test using K-mean (k=50) as a dimension reduction tool."
      ]
    },
    {
      "cell_type": "code",
      "metadata": {
        "id": "0jH59Zl-KddT",
        "colab_type": "code",
        "outputId": "319f8989-abdd-4e1c-e844-c9c83fbcfe9c",
        "colab": {
          "base_uri": "https://localhost:8080/",
          "height": 34
        }
      },
      "source": [
        "t2 = time.time()\n",
        "test_model = KMeans(n_clusters=50, random_state=42).fit(X_train_2d)\n",
        "X_train_reduced = test_model.transform(X_train_2d)\n",
        "X_test_reduced = test_model.transform(X_test_2d)\n",
        "t3 = time.time()\n",
        "print(\"Training took {:.2f}s\".format(t3 - t2))"
      ],
      "execution_count": 0,
      "outputs": [
        {
          "output_type": "stream",
          "text": [
            "Training took 379.46s\n"
          ],
          "name": "stdout"
        }
      ]
    },
    {
      "cell_type": "code",
      "metadata": {
        "id": "Jqe-pPFwKue1",
        "colab_type": "code",
        "outputId": "4d09b642-fa18-4abc-b28d-700ebf66f1a2",
        "colab": {
          "base_uri": "https://localhost:8080/",
          "height": 34
        }
      },
      "source": [
        "t4 = time.time()\n",
        "clf = RandomForestClassifier(n_estimators=150, random_state=42)\n",
        "clf.fit(X_train_reduced, y_train)\n",
        "t5 = time.time()\n",
        "print(\"Training took {:.2f}s\".format(t5 - t4))    "
      ],
      "execution_count": 0,
      "outputs": [
        {
          "output_type": "stream",
          "text": [
            "Training took 117.60s\n"
          ],
          "name": "stdout"
        }
      ]
    },
    {
      "cell_type": "code",
      "metadata": {
        "id": "Ic7YHMe0ON-e",
        "colab_type": "code",
        "outputId": "bf415753-3a3b-4d42-9505-e72f7dd437cc",
        "colab": {
          "base_uri": "https://localhost:8080/",
          "height": 34
        }
      },
      "source": [
        "clf.score(X_test_reduced, y_test)"
      ],
      "execution_count": 0,
      "outputs": [
        {
          "output_type": "execute_result",
          "data": {
            "text/plain": [
              "0.9338"
            ]
          },
          "metadata": {
            "tags": []
          },
          "execution_count": 10
        }
      ]
    },
    {
      "cell_type": "markdown",
      "metadata": {
        "id": "w2Yd2qFOPe_Z",
        "colab_type": "text"
      },
      "source": [
        "By lowing the accuracy rate 3.68%, it did work on the task of dimension reduction."
      ]
    },
    {
      "cell_type": "markdown",
      "metadata": {
        "id": "KLZ9epS8NV2Y",
        "colab_type": "text"
      },
      "source": [
        "Then, let's try this again with the best K=90 and check the result."
      ]
    },
    {
      "cell_type": "code",
      "metadata": {
        "id": "93MIVROsNewM",
        "colab_type": "code",
        "outputId": "3ff01821-e85e-4d50-a982-112c44c245d8",
        "colab": {
          "base_uri": "https://localhost:8080/",
          "height": 34
        }
      },
      "source": [
        "t6 = time.time()\n",
        "best_model = KMeans(n_clusters=90, random_state=42).fit(X_train_2d)\n",
        "X_train_reduced = best_model.transform(X_train_2d)\n",
        "X_test_reduced = best_model.transform(X_test_2d)\n",
        "t7 = time.time()\n",
        "print(\"Training took {:.2f}s\".format(t7 - t6))  "
      ],
      "execution_count": 0,
      "outputs": [
        {
          "output_type": "stream",
          "text": [
            "Training took 570.63s\n"
          ],
          "name": "stdout"
        }
      ]
    },
    {
      "cell_type": "code",
      "metadata": {
        "id": "qHms2nVINocx",
        "colab_type": "code",
        "outputId": "49616dcb-e837-4bd1-c22d-a9ac80557397",
        "colab": {
          "base_uri": "https://localhost:8080/",
          "height": 34
        }
      },
      "source": [
        "t8 = time.time()\n",
        "clf = RandomForestClassifier(n_estimators=150, random_state=42)\n",
        "clf.fit(X_train_reduced, y_train)\n",
        "t9 = time.time()\n",
        "print(\"Training took {:.2f}s\".format(t9 - t8))  "
      ],
      "execution_count": 0,
      "outputs": [
        {
          "output_type": "stream",
          "text": [
            "Training took 155.23s\n"
          ],
          "name": "stdout"
        }
      ]
    },
    {
      "cell_type": "code",
      "metadata": {
        "id": "PE_O3dkTObd6",
        "colab_type": "code",
        "outputId": "4c4d0e76-235e-44ee-8100-8d71893aa816",
        "colab": {
          "base_uri": "https://localhost:8080/",
          "height": 34
        }
      },
      "source": [
        "clf.score(X_test_reduced, y_test)"
      ],
      "execution_count": 0,
      "outputs": [
        {
          "output_type": "execute_result",
          "data": {
            "text/plain": [
              "0.9405"
            ]
          },
          "metadata": {
            "tags": []
          },
          "execution_count": 13
        }
      ]
    },
    {
      "cell_type": "markdown",
      "metadata": {
        "id": "lLJ0yyM3Q6Jb",
        "colab_type": "text"
      },
      "source": [
        "Well, when K get bigger like 90, it takes more time for transformation and boost the accuracy a little better from 93.38% to 94.05%, but still lower thatn the original dataset."
      ]
    },
    {
      "cell_type": "markdown",
      "metadata": {
        "id": "-b3N5BuuP97u",
        "colab_type": "text"
      },
      "source": [
        "# Gaussian Mixture Model Test"
      ]
    },
    {
      "cell_type": "markdown",
      "metadata": {
        "id": "7Eiks7QUVCUM",
        "colab_type": "text"
      },
      "source": [
        "First, let's perform PCA dimension reduction with 99% variance remained."
      ]
    },
    {
      "cell_type": "code",
      "metadata": {
        "id": "niy6OusqP8_S",
        "colab_type": "code",
        "outputId": "e333c0c1-2ab3-4535-9d85-143b6bfe1ec6",
        "colab": {
          "base_uri": "https://localhost:8080/",
          "height": 34
        }
      },
      "source": [
        "from sklearn.decomposition import PCA\n",
        "\n",
        "pca = PCA(0.99)\n",
        "X_train_pca = pca.fit_transform(X_train_2d)\n",
        "X_test_pca = pca.transform(X_test_2d)\n",
        "\n",
        "pca.n_components_"
      ],
      "execution_count": 0,
      "outputs": [
        {
          "output_type": "execute_result",
          "data": {
            "text/plain": [
              "331"
            ]
          },
          "metadata": {
            "tags": []
          },
          "execution_count": 14
        }
      ]
    },
    {
      "cell_type": "markdown",
      "metadata": {
        "id": "c4StSXWEVBZI",
        "colab_type": "text"
      },
      "source": [
        "The number of dimensions of the dataset is reduced from 784 to 331."
      ]
    },
    {
      "cell_type": "markdown",
      "metadata": {
        "id": "UZ2On6zmVaG1",
        "colab_type": "text"
      },
      "source": [
        "# Train Gaussian Mixture Model. "
      ]
    },
    {
      "cell_type": "markdown",
      "metadata": {
        "id": "OuCba8t65NhR",
        "colab_type": "text"
      },
      "source": [
        "A Gaussian Mixture model (GMM) is a probabilistic model that assumes that the instances were generated from a mixture of several Gaussian distributions whose parameters are unknown. "
      ]
    },
    {
      "cell_type": "markdown",
      "metadata": {
        "id": "OMURQj2fYZxA",
        "colab_type": "text"
      },
      "source": [
        "In our training process, we tried n_components = 40, it took over one and a half hour to run. Therefore, using the best k=90 would not be good idea with the time limitation. Consider there are actually 10 distinctive digits in this dataset, choosing n_components = 10 would be an appropriate solution, although might not be the best choice for best performance."
      ]
    },
    {
      "cell_type": "code",
      "metadata": {
        "id": "rpYd9z2VXndT",
        "colab_type": "code",
        "colab": {}
      },
      "source": [
        "gm = GaussianMixture(n_components=10, random_state=42)\n",
        "y_pred = gm.fit_predict(X_train_pca)"
      ],
      "execution_count": 0,
      "outputs": []
    },
    {
      "cell_type": "markdown",
      "metadata": {
        "id": "lWRioIz3N1Fg",
        "colab_type": "text"
      },
      "source": [
        "Then, let's take a look at the parameters that the algorithm estimated."
      ]
    },
    {
      "cell_type": "code",
      "metadata": {
        "id": "sGHXdsGwmWX6",
        "colab_type": "code",
        "outputId": "903cbbe0-e08a-4972-f5f8-32d07cf18328",
        "colab": {
          "base_uri": "https://localhost:8080/",
          "height": 235
        }
      },
      "source": [
        "gm.means_"
      ],
      "execution_count": 0,
      "outputs": [
        {
          "output_type": "execute_result",
          "data": {
            "text/plain": [
              "array([[ 2.00426471e-01, -1.95378751e-01,  1.06000020e+00, ...,\n",
              "         6.60053712e-04, -4.03166488e-03, -3.48220891e-03],\n",
              "       [-3.48049513e+00, -1.43409793e+00,  2.39825532e-02, ...,\n",
              "         4.85958695e-04,  1.43397800e-03,  1.98480693e-03],\n",
              "       [ 5.22736243e-02, -7.98719182e-01,  2.95807814e-01, ...,\n",
              "        -2.52149482e-04, -5.61855385e-04, -2.50798804e-03],\n",
              "       ...,\n",
              "       [-7.81832184e-01,  2.20868555e+00,  1.10949096e+00, ...,\n",
              "        -1.40486374e-03, -3.80145375e-03, -1.16069624e-03],\n",
              "       [ 1.20975787e+00, -1.20714986e+00,  2.47832126e-01, ...,\n",
              "        -1.16327520e-03, -1.31094651e-03,  1.48057558e-03],\n",
              "       [-1.17942125e+00,  2.18493842e+00, -1.14374491e+00, ...,\n",
              "         1.29316397e-03,  1.84630745e-03,  2.36452307e-03]])"
            ]
          },
          "metadata": {
            "tags": []
          },
          "execution_count": 20
        }
      ]
    },
    {
      "cell_type": "code",
      "metadata": {
        "id": "Ap0cZE1zmI3-",
        "colab_type": "code",
        "outputId": "6f325c25-c811-410b-b0cc-d7e83b6d9439",
        "colab": {
          "base_uri": "https://localhost:8080/",
          "height": 50
        }
      },
      "source": [
        "gm.weights_"
      ],
      "execution_count": 0,
      "outputs": [
        {
          "output_type": "execute_result",
          "data": {
            "text/plain": [
              "array([0.08474994, 0.07316667, 0.15491899, 0.1040815 , 0.06398309,\n",
              "       0.06287048, 0.06021713, 0.07799913, 0.17734665, 0.14066642])"
            ]
          },
          "metadata": {
            "tags": []
          },
          "execution_count": 21
        }
      ]
    },
    {
      "cell_type": "code",
      "metadata": {
        "id": "YSj2tpchmIrB",
        "colab_type": "code",
        "outputId": "bc34dedd-cdba-44e2-dc0b-6c4562cd49dd",
        "colab": {
          "base_uri": "https://localhost:8080/",
          "height": 1000
        }
      },
      "source": [
        "gm.covariances_"
      ],
      "execution_count": 0,
      "outputs": [
        {
          "output_type": "execute_result",
          "data": {
            "text/plain": [
              "array([[[ 2.61975542e+00,  6.63721112e-01, -1.10740614e-02, ...,\n",
              "         -9.74574423e-04,  5.74516684e-04,  4.55964133e-04],\n",
              "        [ 6.63721112e-01,  1.23807171e+00,  8.58680691e-03, ...,\n",
              "         -2.46128073e-03, -6.83100285e-03, -5.79056013e-03],\n",
              "        [-1.10740614e-02,  8.58680691e-03,  1.55569079e+00, ...,\n",
              "         -1.19395520e-03, -7.43128751e-04, -3.45885556e-03],\n",
              "        ...,\n",
              "        [-9.74574423e-04, -2.46128073e-03, -1.19395520e-03, ...,\n",
              "          5.23782946e-03,  2.86407864e-04,  3.50811328e-04],\n",
              "        [ 5.74516684e-04, -6.83100285e-03, -7.43128751e-04, ...,\n",
              "          2.86407864e-04,  7.60772423e-03,  2.35818185e-03],\n",
              "        [ 4.55964133e-04, -5.79056013e-03, -3.45885556e-03, ...,\n",
              "          3.50811328e-04,  2.35818185e-03,  7.85383389e-03]],\n",
              "\n",
              "       [[ 1.51172456e-01,  1.45423906e-01, -1.37736177e-01, ...,\n",
              "          3.11445579e-05,  4.85247592e-06, -2.52754290e-04],\n",
              "        [ 1.45423906e-01,  5.71190889e-01, -3.63395724e-01, ...,\n",
              "          3.48927337e-04, -1.06192312e-03,  2.22563170e-04],\n",
              "        [-1.37736177e-01, -3.63395724e-01,  3.25929094e-01, ...,\n",
              "         -4.64702504e-05,  5.72125537e-04,  1.49158835e-04],\n",
              "        ...,\n",
              "        [ 3.11445579e-05,  3.48927337e-04, -4.64702504e-05, ...,\n",
              "          2.45904630e-03,  1.96645352e-05, -5.27345510e-05],\n",
              "        [ 4.85247592e-06, -1.06192312e-03,  5.72125537e-04, ...,\n",
              "          1.96645352e-05,  1.75787426e-03,  1.54970100e-04],\n",
              "        [-2.52754290e-04,  2.22563170e-04,  1.49158835e-04, ...,\n",
              "         -5.27345510e-05,  1.54970100e-04,  1.31190256e-03]],\n",
              "\n",
              "       [[ 2.17327158e+00,  4.25321071e-02,  2.83705781e-01, ...,\n",
              "          1.02607615e-03, -1.28993836e-03, -3.76712355e-05],\n",
              "        [ 4.25321071e-02,  1.77191809e+00,  5.30786547e-01, ...,\n",
              "         -2.37205067e-05,  1.88778075e-03,  2.51181222e-03],\n",
              "        [ 2.83705781e-01,  5.30786547e-01,  2.94284695e+00, ...,\n",
              "          7.48510465e-04,  1.84313482e-03,  3.88016711e-03],\n",
              "        ...,\n",
              "        [ 1.02607615e-03, -2.37205067e-05,  7.48510465e-04, ...,\n",
              "          5.17345545e-03, -1.65890505e-04, -3.70590261e-05],\n",
              "        [-1.28993836e-03,  1.88778075e-03,  1.84313482e-03, ...,\n",
              "         -1.65890505e-04,  5.18986609e-03, -3.96449919e-04],\n",
              "        [-3.76712355e-05,  2.51181222e-03,  3.88016711e-03, ...,\n",
              "         -3.70590261e-05, -3.96449919e-04,  5.13058608e-03]],\n",
              "\n",
              "       ...,\n",
              "\n",
              "       [[ 1.32802621e+00,  9.66041858e-01,  2.11667788e-01, ...,\n",
              "          1.92914531e-03,  3.35760688e-03, -2.02717165e-03],\n",
              "        [ 9.66041858e-01,  1.50499443e+00,  5.93147838e-02, ...,\n",
              "          3.73665871e-03,  1.85825782e-03,  2.49554773e-04],\n",
              "        [ 2.11667788e-01,  5.93147838e-02,  1.09879039e+00, ...,\n",
              "          2.34882177e-03,  4.76552560e-04, -5.13265658e-04],\n",
              "        ...,\n",
              "        [ 1.92914531e-03,  3.73665871e-03,  2.34882177e-03, ...,\n",
              "          5.58832929e-03, -1.67215185e-07,  1.91710098e-04],\n",
              "        [ 3.35760688e-03,  1.85825782e-03,  4.76552560e-04, ...,\n",
              "         -1.67215185e-07,  4.42173589e-03, -4.82228419e-04],\n",
              "        [-2.02717165e-03,  2.49554773e-04, -5.13265658e-04, ...,\n",
              "          1.91710098e-04, -4.82228419e-04,  5.15972902e-03]],\n",
              "\n",
              "       [[ 3.60769333e+00,  3.08203407e-01,  6.20693053e-01, ...,\n",
              "          1.48665565e-03,  4.31235688e-04,  2.86362258e-03],\n",
              "        [ 3.08203407e-01,  2.46802737e+00,  1.17698792e+00, ...,\n",
              "         -4.01089597e-04, -7.87289434e-04, -2.38133591e-04],\n",
              "        [ 6.20693053e-01,  1.17698792e+00,  4.07696138e+00, ...,\n",
              "         -2.78990230e-03,  2.26269684e-03, -1.35970602e-03],\n",
              "        ...,\n",
              "        [ 1.48665565e-03, -4.01089597e-04, -2.78990230e-03, ...,\n",
              "          7.33088171e-03,  2.07148041e-04,  1.59835376e-05],\n",
              "        [ 4.31235688e-04, -7.87289434e-04,  2.26269684e-03, ...,\n",
              "          2.07148041e-04,  8.71527494e-03,  4.82416422e-04],\n",
              "        [ 2.86362258e-03, -2.38133591e-04, -1.35970602e-03, ...,\n",
              "          1.59835376e-05,  4.82416422e-04,  8.43441184e-03]],\n",
              "\n",
              "       [[ 1.30387541e+00,  8.78147532e-01, -4.48017347e-01, ...,\n",
              "          4.02523956e-04,  4.22486000e-04,  2.11226749e-03],\n",
              "        [ 8.78147532e-01,  1.53947544e+00,  1.13861834e-01, ...,\n",
              "          5.30797098e-05,  4.01886103e-04,  1.61845105e-04],\n",
              "        [-4.48017347e-01,  1.13861834e-01,  1.30567424e+00, ...,\n",
              "          2.96905332e-03,  2.07298138e-03, -5.44535127e-04],\n",
              "        ...,\n",
              "        [ 4.02523956e-04,  5.30797098e-05,  2.96905332e-03, ...,\n",
              "          4.75048173e-03, -4.11241257e-04,  1.57899627e-04],\n",
              "        [ 4.22486000e-04,  4.01886103e-04,  2.07298138e-03, ...,\n",
              "         -4.11241257e-04,  3.65877239e-03, -6.74624454e-04],\n",
              "        [ 2.11226749e-03,  1.61845105e-04, -5.44535127e-04, ...,\n",
              "          1.57899627e-04, -6.74624454e-04,  3.70603296e-03]]])"
            ]
          },
          "metadata": {
            "tags": []
          },
          "execution_count": 22
        }
      ]
    },
    {
      "cell_type": "code",
      "metadata": {
        "id": "VQxR3tVU5N0o",
        "colab_type": "code",
        "outputId": "dcc82964-0e61-462f-d8ce-9283530efe66",
        "colab": {
          "base_uri": "https://localhost:8080/",
          "height": 34
        }
      },
      "source": [
        "gm.converged_"
      ],
      "execution_count": 0,
      "outputs": [
        {
          "output_type": "execute_result",
          "data": {
            "text/plain": [
              "True"
            ]
          },
          "metadata": {
            "tags": []
          },
          "execution_count": 23
        }
      ]
    },
    {
      "cell_type": "markdown",
      "metadata": {
        "id": "Yq6jT3vUakMn",
        "colab_type": "text"
      },
      "source": [
        "Good, it shows that the algorithm did actually converged."
      ]
    },
    {
      "cell_type": "code",
      "metadata": {
        "id": "04KBa4YM8xDV",
        "colab_type": "code",
        "outputId": "16bd280a-5dfe-4d22-ee9c-ffdf8a215fa1",
        "colab": {
          "base_uri": "https://localhost:8080/",
          "height": 34
        }
      },
      "source": [
        "gm.n_iter_"
      ],
      "execution_count": 0,
      "outputs": [
        {
          "output_type": "execute_result",
          "data": {
            "text/plain": [
              "83"
            ]
          },
          "metadata": {
            "tags": []
          },
          "execution_count": 24
        }
      ]
    },
    {
      "cell_type": "code",
      "metadata": {
        "id": "NoQmtW-Aa6Nz",
        "colab_type": "code",
        "outputId": "da4942bb-8369-479e-f411-a513ee8bafae",
        "colab": {
          "base_uri": "https://localhost:8080/",
          "height": 34
        }
      },
      "source": [
        "gm.predict(X_train_pca)"
      ],
      "execution_count": 0,
      "outputs": [
        {
          "output_type": "execute_result",
          "data": {
            "text/plain": [
              "array([3, 6, 4, ..., 2, 0, 5])"
            ]
          },
          "metadata": {
            "tags": []
          },
          "execution_count": 25
        }
      ]
    },
    {
      "cell_type": "code",
      "metadata": {
        "id": "GiETAlkPbAfW",
        "colab_type": "code",
        "outputId": "b8ed73f1-5703-486d-d2a1-ea6e6ba57576",
        "colab": {
          "base_uri": "https://localhost:8080/",
          "height": 235
        }
      },
      "source": [
        "gm.predict_proba(X_train_pca)"
      ],
      "execution_count": 0,
      "outputs": [
        {
          "output_type": "execute_result",
          "data": {
            "text/plain": [
              "array([[0.00000000e+000, 0.00000000e+000, 0.00000000e+000, ...,\n",
              "        0.00000000e+000, 0.00000000e+000, 0.00000000e+000],\n",
              "       [0.00000000e+000, 0.00000000e+000, 0.00000000e+000, ...,\n",
              "        0.00000000e+000, 5.42749054e-096, 0.00000000e+000],\n",
              "       [0.00000000e+000, 0.00000000e+000, 0.00000000e+000, ...,\n",
              "        0.00000000e+000, 0.00000000e+000, 0.00000000e+000],\n",
              "       ...,\n",
              "       [0.00000000e+000, 0.00000000e+000, 1.00000000e+000, ...,\n",
              "        0.00000000e+000, 0.00000000e+000, 0.00000000e+000],\n",
              "       [1.00000000e+000, 0.00000000e+000, 0.00000000e+000, ...,\n",
              "        0.00000000e+000, 2.79796227e-118, 0.00000000e+000],\n",
              "       [0.00000000e+000, 0.00000000e+000, 3.11329912e-104, ...,\n",
              "        0.00000000e+000, 0.00000000e+000, 0.00000000e+000]])"
            ]
          },
          "metadata": {
            "tags": []
          },
          "execution_count": 26
        }
      ]
    },
    {
      "cell_type": "markdown",
      "metadata": {
        "id": "GVfY2nNnSFQD",
        "colab_type": "text"
      },
      "source": [
        "Use the model to generate some new digits (inverse_transform() method is used because, PCA is performed)), and visualize them."
      ]
    },
    {
      "cell_type": "code",
      "metadata": {
        "id": "y_87y9nyOsju",
        "colab_type": "code",
        "colab": {}
      },
      "source": [
        "n_gen_d = 20\n",
        "gen_d_reduced, y_gen_d = gm.sample(n_samples=n_gen_d)\n",
        "gen_d = pca.inverse_transform(gen_d_reduced)"
      ],
      "execution_count": 0,
      "outputs": []
    },
    {
      "cell_type": "code",
      "metadata": {
        "id": "s6eyLsEjjHN6",
        "colab_type": "code",
        "colab": {}
      },
      "source": [
        "def plot_digits(digits, labels, n_cols=5):\n",
        "    n_rows = (len(digits) - 1) // n_cols + 1\n",
        "    plt.figure(figsize=(n_cols, n_rows * 1.1))\n",
        "    for index, (digit, label) in enumerate(zip(digits, labels)):\n",
        "        plt.subplot(n_rows, n_cols, index + 1)\n",
        "        plt.imshow(digit.reshape(28, 28), cmap=\"gray\")\n",
        "        plt.axis(\"off\")\n",
        "        plt.title(label)\n",
        "    plt.show()\n"
      ],
      "execution_count": 0,
      "outputs": []
    },
    {
      "cell_type": "code",
      "metadata": {
        "id": "uI4O-Ej-OsbI",
        "colab_type": "code",
        "outputId": "e7524188-4f54-4a49-c025-d2da7d125972",
        "colab": {
          "base_uri": "https://localhost:8080/",
          "height": 282
        }
      },
      "source": [
        "plot_digits(gen_d, y_gen_d)"
      ],
      "execution_count": 0,
      "outputs": [
        {
          "output_type": "display_data",
          "data": {
            "image/png": "[encoded data removed]",
            "text/plain": [
              "<Figure size 360x316.8 with 20 Axes>"
            ]
          },
          "metadata": {
            "tags": [],
            "needs_background": "light"
          }
        }
      ]
    },
    {
      "cell_type": "markdown",
      "metadata": {
        "id": "HIxdbP6Zjy0p",
        "colab_type": "text"
      },
      "source": [
        "Try to modify some images (e.g., rotate, flip, darken) and see if the model can detect the anomalies (i.e., compare the output of the score_samples() method for normal images and for anomalies)."
      ]
    },
    {
      "cell_type": "code",
      "metadata": {
        "id": "QdOpLJFmOsM6",
        "colab_type": "code",
        "outputId": "d1c9e0fa-c844-4990-c436-30a51e0de8e9",
        "colab": {
          "base_uri": "https://localhost:8080/",
          "height": 160
        }
      },
      "source": [
        "n_rotated = 4\n",
        "rotated = np.transpose(X_train_2d[:n_rotated].reshape(-1, 28, 28), axes=[0, 2, 1])\n",
        "rotated = rotated.reshape(-1, 28*28)\n",
        "y_rotated = y_train[:n_rotated]\n",
        "\n",
        "n_flipped = 3\n",
        "flipped = X_train_2d[:n_flipped].reshape(-1, 28, 28)[:, ::-1]\n",
        "flipped = flipped.reshape(-1, 28*28)\n",
        "y_flipped = y_train[:n_flipped]\n",
        "\n",
        "n_darkened = 3\n",
        "darkened = X_train_2d[:n_darkened].copy()\n",
        "darkened[:, 1:-1] *= 0.3\n",
        "darkened = darkened.reshape(-1, 28*28)\n",
        "y_darkened = y_train[:n_darkened]\n",
        "\n",
        "X_bad_digits = np.r_[rotated, flipped, darkened]\n",
        "y_bad = np.concatenate([y_rotated, y_flipped, y_darkened])\n",
        "\n",
        "plot_digits(X_bad_digits, y_bad)"
      ],
      "execution_count": 0,
      "outputs": [
        {
          "output_type": "display_data",
          "data": {
            "image/png": "[encoded data removed]",
            "text/plain": [
              "<Figure size 360x158.4 with 10 Axes>"
            ]
          },
          "metadata": {
            "tags": [],
            "needs_background": "light"
          }
        }
      ]
    },
    {
      "cell_type": "code",
      "metadata": {
        "id": "34_JLEotkn2j",
        "colab_type": "code",
        "outputId": "333b0e2f-6c29-42d7-98e0-f5b8eb90a58d",
        "colab": {
          "base_uri": "https://localhost:8080/",
          "height": 67
        }
      },
      "source": [
        "X_bad_digits_pca = pca.transform(X_bad_digits)\n",
        "gm.score_samples(X_bad_digits_pca)"
      ],
      "execution_count": 0,
      "outputs": [
        {
          "output_type": "execute_result",
          "data": {
            "text/plain": [
              "array([ -34.22747065,  300.4505291 ,  184.66535546,  355.01409328,\n",
              "        158.40844517,   85.72229827, -237.1952952 ,  376.76411524,\n",
              "        492.18289667,  369.00925026])"
            ]
          },
          "metadata": {
            "tags": []
          },
          "execution_count": 31
        }
      ]
    },
    {
      "cell_type": "markdown",
      "metadata": {
        "id": "EnEQByYBOr2R",
        "colab_type": "text"
      },
      "source": [
        "Some of the bad digits are considered unlikely by the Gaussian Mixture model. The reason of not most of the digits are considered unlikely is because, unlike some objects or human faces, the handwritten digits do not show high sensitivity regarding the position. For example, if you flip a \"6\", it becomes a \"9\". Both \"0\" and \"8\" can be considered symmetric to some extend.\n",
        "\n",
        "Then, let's compare this to the scores of some training instances:"
      ]
    },
    {
      "cell_type": "code",
      "metadata": {
        "id": "ccjLm4Ggk37_",
        "colab_type": "code",
        "outputId": "6c9ff1d2-4d56-4dc3-b406-03e715a2a9aa",
        "colab": {
          "base_uri": "https://localhost:8080/",
          "height": 67
        }
      },
      "source": [
        "gm.score_samples(X_train_pca[:10])"
      ],
      "execution_count": 0,
      "outputs": [
        {
          "output_type": "execute_result",
          "data": {
            "text/plain": [
              "array([ 155.05712116,  393.70227122,  265.54496047,  706.33499228,\n",
              "        537.72002155,  215.2938186 , 1029.3332956 ,  360.05500065,\n",
              "       1085.27990019,  422.15779773])"
            ]
          },
          "metadata": {
            "tags": []
          },
          "execution_count": 32
        }
      ]
    },
    {
      "cell_type": "markdown",
      "metadata": {
        "id": "aggX7E1lec2p",
        "colab_type": "text"
      },
      "source": [
        "# Next, let's try train GMMs for the subsets \"5\"."
      ]
    },
    {
      "cell_type": "code",
      "metadata": {
        "id": "toD15gpmeqBq",
        "colab_type": "code",
        "outputId": "8e8c80f0-afeb-45d7-ced4-2d240c6450d8",
        "colab": {
          "base_uri": "https://localhost:8080/",
          "height": 34
        }
      },
      "source": [
        "pca = PCA(0.99)\n",
        "X_train_pca = pca.fit_transform(X_train_5)\n",
        "X_test_5 = []\n",
        "for i in range(len(X_test_2d)):\n",
        "  if y_test[i]==5:\n",
        "    X_test_5.append(X_test_2d[i])\n",
        "X_test_5=np.asarray(X_test_5)\n",
        "X_test_pca = pca.transform(X_test_5)\n",
        "\n",
        "pca.n_components_"
      ],
      "execution_count": 0,
      "outputs": [
        {
          "output_type": "execute_result",
          "data": {
            "text/plain": [
              "282"
            ]
          },
          "metadata": {
            "tags": []
          },
          "execution_count": 54
        }
      ]
    },
    {
      "cell_type": "code",
      "metadata": {
        "id": "dvK_TxaVfxmp",
        "colab_type": "code",
        "colab": {}
      },
      "source": [
        "gm = GaussianMixture(n_components=2, random_state=42)\n",
        "y_pred = gm.fit_predict(X_train_5)"
      ],
      "execution_count": 0,
      "outputs": []
    },
    {
      "cell_type": "code",
      "metadata": {
        "id": "bCT6A01Nf4vw",
        "colab_type": "code",
        "outputId": "2218ddf6-5ec2-48cf-c4c7-ba0326710031",
        "colab": {
          "base_uri": "https://localhost:8080/",
          "height": 50
        }
      },
      "source": [
        "gm.means_"
      ],
      "execution_count": 0,
      "outputs": [
        {
          "output_type": "execute_result",
          "data": {
            "text/plain": [
              "array([[0., 0., 0., ..., 0., 0., 0.],\n",
              "       [0., 0., 0., ..., 0., 0., 0.]])"
            ]
          },
          "metadata": {
            "tags": []
          },
          "execution_count": 42
        }
      ]
    },
    {
      "cell_type": "code",
      "metadata": {
        "id": "8LcdrKH7f6GJ",
        "colab_type": "code",
        "outputId": "c2fff034-c1ff-4f52-8711-4c799a37c900",
        "colab": {
          "base_uri": "https://localhost:8080/",
          "height": 34
        }
      },
      "source": [
        "gm.weights_"
      ],
      "execution_count": 0,
      "outputs": [
        {
          "output_type": "execute_result",
          "data": {
            "text/plain": [
              "array([0.35270245, 0.64729755])"
            ]
          },
          "metadata": {
            "tags": []
          },
          "execution_count": 43
        }
      ]
    },
    {
      "cell_type": "code",
      "metadata": {
        "id": "Q_kB4D_If7WA",
        "colab_type": "code",
        "outputId": "5bffac8d-a0c4-4aa8-a0c1-53e65018c167",
        "colab": {
          "base_uri": "https://localhost:8080/",
          "height": 269
        }
      },
      "source": [
        "gm.covariances_"
      ],
      "execution_count": 0,
      "outputs": [
        {
          "output_type": "execute_result",
          "data": {
            "text/plain": [
              "array([[[1.e-06, 0.e+00, 0.e+00, ..., 0.e+00, 0.e+00, 0.e+00],\n",
              "        [0.e+00, 1.e-06, 0.e+00, ..., 0.e+00, 0.e+00, 0.e+00],\n",
              "        [0.e+00, 0.e+00, 1.e-06, ..., 0.e+00, 0.e+00, 0.e+00],\n",
              "        ...,\n",
              "        [0.e+00, 0.e+00, 0.e+00, ..., 1.e-06, 0.e+00, 0.e+00],\n",
              "        [0.e+00, 0.e+00, 0.e+00, ..., 0.e+00, 1.e-06, 0.e+00],\n",
              "        [0.e+00, 0.e+00, 0.e+00, ..., 0.e+00, 0.e+00, 1.e-06]],\n",
              "\n",
              "       [[1.e-06, 0.e+00, 0.e+00, ..., 0.e+00, 0.e+00, 0.e+00],\n",
              "        [0.e+00, 1.e-06, 0.e+00, ..., 0.e+00, 0.e+00, 0.e+00],\n",
              "        [0.e+00, 0.e+00, 1.e-06, ..., 0.e+00, 0.e+00, 0.e+00],\n",
              "        ...,\n",
              "        [0.e+00, 0.e+00, 0.e+00, ..., 1.e-06, 0.e+00, 0.e+00],\n",
              "        [0.e+00, 0.e+00, 0.e+00, ..., 0.e+00, 1.e-06, 0.e+00],\n",
              "        [0.e+00, 0.e+00, 0.e+00, ..., 0.e+00, 0.e+00, 1.e-06]]])"
            ]
          },
          "metadata": {
            "tags": []
          },
          "execution_count": 44
        }
      ]
    },
    {
      "cell_type": "code",
      "metadata": {
        "id": "7IX6eyyOgAjG",
        "colab_type": "code",
        "outputId": "52b3c8f2-785e-4c0d-8421-a81646831b76",
        "colab": {
          "base_uri": "https://localhost:8080/",
          "height": 34
        }
      },
      "source": [
        "gm.converged_"
      ],
      "execution_count": 0,
      "outputs": [
        {
          "output_type": "execute_result",
          "data": {
            "text/plain": [
              "True"
            ]
          },
          "metadata": {
            "tags": []
          },
          "execution_count": 45
        }
      ]
    },
    {
      "cell_type": "code",
      "metadata": {
        "id": "MYkh9BFagCpB",
        "colab_type": "code",
        "outputId": "09b4205e-0484-4c5d-beb8-6ee5ca0e5978",
        "colab": {
          "base_uri": "https://localhost:8080/",
          "height": 34
        }
      },
      "source": [
        "gm.n_iter_"
      ],
      "execution_count": 0,
      "outputs": [
        {
          "output_type": "execute_result",
          "data": {
            "text/plain": [
              "20"
            ]
          },
          "metadata": {
            "tags": []
          },
          "execution_count": 46
        }
      ]
    },
    {
      "cell_type": "code",
      "metadata": {
        "id": "7hQfuhzLgEVs",
        "colab_type": "code",
        "outputId": "67d374d9-a914-4186-b8b1-173922c78c3a",
        "colab": {
          "base_uri": "https://localhost:8080/",
          "height": 34
        }
      },
      "source": [
        "gm.predict(X_train_5)"
      ],
      "execution_count": 0,
      "outputs": [
        {
          "output_type": "execute_result",
          "data": {
            "text/plain": [
              "array([0, 1, 1, ..., 1, 1, 1])"
            ]
          },
          "metadata": {
            "tags": []
          },
          "execution_count": 48
        }
      ]
    },
    {
      "cell_type": "code",
      "metadata": {
        "id": "BlM4DcbegS5u",
        "colab_type": "code",
        "outputId": "6f7dc980-a232-4cd0-e0d4-05dc056543ee",
        "colab": {
          "base_uri": "https://localhost:8080/",
          "height": 134
        }
      },
      "source": [
        "gm.predict_proba(X_train_5)"
      ],
      "execution_count": 0,
      "outputs": [
        {
          "output_type": "execute_result",
          "data": {
            "text/plain": [
              "array([[1.00000000e+000, 0.00000000e+000],\n",
              "       [0.00000000e+000, 1.00000000e+000],\n",
              "       [6.92363129e-282, 1.00000000e+000],\n",
              "       ...,\n",
              "       [2.22422015e-228, 1.00000000e+000],\n",
              "       [1.92837171e-208, 1.00000000e+000],\n",
              "       [1.20564181e-214, 1.00000000e+000]])"
            ]
          },
          "metadata": {
            "tags": []
          },
          "execution_count": 50
        }
      ]
    },
    {
      "cell_type": "code",
      "metadata": {
        "id": "5C2r9fVwgc-w",
        "colab_type": "code",
        "outputId": "83ec2505-07db-4a60-c87a-7813faf5887e",
        "colab": {
          "base_uri": "https://localhost:8080/",
          "height": 50
        }
      },
      "source": [
        "gm.score_samples(X_train_5)"
      ],
      "execution_count": 0,
      "outputs": [
        {
          "output_type": "execute_result",
          "data": {
            "text/plain": [
              "array([1939.13099995, 2582.11057069, 2596.4272039 , ..., 2598.61366256,\n",
              "       2585.08155665, 2566.78852592])"
            ]
          },
          "metadata": {
            "tags": []
          },
          "execution_count": 51
        }
      ]
    },
    {
      "cell_type": "markdown",
      "metadata": {
        "id": "7EZG20sPgymQ",
        "colab_type": "text"
      },
      "source": [
        "# GMMs for the subsets \"0\"."
      ]
    },
    {
      "cell_type": "code",
      "metadata": {
        "id": "t8MsW-uDgyAw",
        "colab_type": "code",
        "outputId": "d4f3f579-34ee-4d95-86d9-ca92311d6efa",
        "colab": {
          "base_uri": "https://localhost:8080/",
          "height": 34
        }
      },
      "source": [
        "pca = PCA(0.99)\n",
        "X_train_pca = pca.fit_transform(X_train_0)\n",
        "X_test_0 = []\n",
        "for i in range(len(X_test_2d)):\n",
        "  if y_test[i]==0:\n",
        "    X_test_0.append(X_test_2d[i])\n",
        "X_test_0=np.asarray(X_test_0)\n",
        "X_test_pca = pca.transform(X_test_0)\n",
        "pca.n_components_"
      ],
      "execution_count": 0,
      "outputs": [
        {
          "output_type": "execute_result",
          "data": {
            "text/plain": [
              "270"
            ]
          },
          "metadata": {
            "tags": []
          },
          "execution_count": 55
        }
      ]
    },
    {
      "cell_type": "code",
      "metadata": {
        "id": "xOiMCtNmhknB",
        "colab_type": "code",
        "colab": {}
      },
      "source": [
        "gm = GaussianMixture(n_components=2, random_state=42)\n",
        "y_pred = gm.fit_predict(X_train_0)"
      ],
      "execution_count": 0,
      "outputs": []
    },
    {
      "cell_type": "code",
      "metadata": {
        "id": "1f7QhXoNhn8G",
        "colab_type": "code",
        "outputId": "8ab13732-e77f-43c9-ba0d-66c411173683",
        "colab": {
          "base_uri": "https://localhost:8080/",
          "height": 50
        }
      },
      "source": [
        "gm.means_"
      ],
      "execution_count": 0,
      "outputs": [
        {
          "output_type": "execute_result",
          "data": {
            "text/plain": [
              "array([[0., 0., 0., ..., 0., 0., 0.],\n",
              "       [0., 0., 0., ..., 0., 0., 0.]])"
            ]
          },
          "metadata": {
            "tags": []
          },
          "execution_count": 57
        }
      ]
    },
    {
      "cell_type": "code",
      "metadata": {
        "id": "CPLnk1J7hpmC",
        "colab_type": "code",
        "outputId": "7b647d09-10f6-4a20-c73f-7b834a1fcdde",
        "colab": {
          "base_uri": "https://localhost:8080/",
          "height": 34
        }
      },
      "source": [
        "gm.weights_"
      ],
      "execution_count": 0,
      "outputs": [
        {
          "output_type": "execute_result",
          "data": {
            "text/plain": [
              "array([0.59210159, 0.40789841])"
            ]
          },
          "metadata": {
            "tags": []
          },
          "execution_count": 58
        }
      ]
    },
    {
      "cell_type": "code",
      "metadata": {
        "id": "8_OVubjQhqzR",
        "colab_type": "code",
        "outputId": "7db24f9f-8af8-4f35-9580-66b2684d0a06",
        "colab": {
          "base_uri": "https://localhost:8080/",
          "height": 269
        }
      },
      "source": [
        "gm.covariances_"
      ],
      "execution_count": 0,
      "outputs": [
        {
          "output_type": "execute_result",
          "data": {
            "text/plain": [
              "array([[[1.e-06, 0.e+00, 0.e+00, ..., 0.e+00, 0.e+00, 0.e+00],\n",
              "        [0.e+00, 1.e-06, 0.e+00, ..., 0.e+00, 0.e+00, 0.e+00],\n",
              "        [0.e+00, 0.e+00, 1.e-06, ..., 0.e+00, 0.e+00, 0.e+00],\n",
              "        ...,\n",
              "        [0.e+00, 0.e+00, 0.e+00, ..., 1.e-06, 0.e+00, 0.e+00],\n",
              "        [0.e+00, 0.e+00, 0.e+00, ..., 0.e+00, 1.e-06, 0.e+00],\n",
              "        [0.e+00, 0.e+00, 0.e+00, ..., 0.e+00, 0.e+00, 1.e-06]],\n",
              "\n",
              "       [[1.e-06, 0.e+00, 0.e+00, ..., 0.e+00, 0.e+00, 0.e+00],\n",
              "        [0.e+00, 1.e-06, 0.e+00, ..., 0.e+00, 0.e+00, 0.e+00],\n",
              "        [0.e+00, 0.e+00, 1.e-06, ..., 0.e+00, 0.e+00, 0.e+00],\n",
              "        ...,\n",
              "        [0.e+00, 0.e+00, 0.e+00, ..., 1.e-06, 0.e+00, 0.e+00],\n",
              "        [0.e+00, 0.e+00, 0.e+00, ..., 0.e+00, 1.e-06, 0.e+00],\n",
              "        [0.e+00, 0.e+00, 0.e+00, ..., 0.e+00, 0.e+00, 1.e-06]]])"
            ]
          },
          "metadata": {
            "tags": []
          },
          "execution_count": 59
        }
      ]
    },
    {
      "cell_type": "code",
      "metadata": {
        "id": "PH_izwTshtcB",
        "colab_type": "code",
        "outputId": "9367fc55-8e92-43bb-ae15-dba9af30c8f8",
        "colab": {
          "base_uri": "https://localhost:8080/",
          "height": 34
        }
      },
      "source": [
        "gm.converged_"
      ],
      "execution_count": 0,
      "outputs": [
        {
          "output_type": "execute_result",
          "data": {
            "text/plain": [
              "True"
            ]
          },
          "metadata": {
            "tags": []
          },
          "execution_count": 60
        }
      ]
    },
    {
      "cell_type": "code",
      "metadata": {
        "id": "usnhr5tPhvNe",
        "colab_type": "code",
        "outputId": "1164e202-835a-4339-b7c4-3b52956bc0c5",
        "colab": {
          "base_uri": "https://localhost:8080/",
          "height": 34
        }
      },
      "source": [
        "gm.n_iter_"
      ],
      "execution_count": 0,
      "outputs": [
        {
          "output_type": "execute_result",
          "data": {
            "text/plain": [
              "18"
            ]
          },
          "metadata": {
            "tags": []
          },
          "execution_count": 61
        }
      ]
    },
    {
      "cell_type": "code",
      "metadata": {
        "id": "z4PpOISyhxBY",
        "colab_type": "code",
        "outputId": "6c9dfa80-0c11-45f5-c86d-d7f6b0146ab8",
        "colab": {
          "base_uri": "https://localhost:8080/",
          "height": 34
        }
      },
      "source": [
        "gm.predict(X_train_0)"
      ],
      "execution_count": 0,
      "outputs": [
        {
          "output_type": "execute_result",
          "data": {
            "text/plain": [
              "array([0, 0, 0, ..., 0, 0, 0])"
            ]
          },
          "metadata": {
            "tags": []
          },
          "execution_count": 62
        }
      ]
    },
    {
      "cell_type": "code",
      "metadata": {
        "id": "-NnRZuH5h0Gb",
        "colab_type": "code",
        "outputId": "5d97cb5b-8917-477f-b2e5-d986d755c8b8",
        "colab": {
          "base_uri": "https://localhost:8080/",
          "height": 134
        }
      },
      "source": [
        "gm.predict_proba(X_train_0)"
      ],
      "execution_count": 0,
      "outputs": [
        {
          "output_type": "execute_result",
          "data": {
            "text/plain": [
              "array([[1.00000000e+000, 1.70640677e-123],\n",
              "       [1.00000000e+000, 4.78282502e-146],\n",
              "       [1.00000000e+000, 2.88078324e-243],\n",
              "       ...,\n",
              "       [1.00000000e+000, 0.00000000e+000],\n",
              "       [1.00000000e+000, 0.00000000e+000],\n",
              "       [1.00000000e+000, 0.00000000e+000]])"
            ]
          },
          "metadata": {
            "tags": []
          },
          "execution_count": 63
        }
      ]
    },
    {
      "cell_type": "code",
      "metadata": {
        "id": "1XXAkR-bh257",
        "colab_type": "code",
        "outputId": "c14f67fe-7a8d-4be9-ecd3-b56086f975a1",
        "colab": {
          "base_uri": "https://localhost:8080/",
          "height": 50
        }
      },
      "source": [
        "gm.score_samples(X_train_0)"
      ],
      "execution_count": 0,
      "outputs": [
        {
          "output_type": "execute_result",
          "data": {
            "text/plain": [
              "array([2629.48614113, 2565.16239578, 2519.77561586, ..., 2442.94447589,\n",
              "       2586.89317784, 2505.62214632])"
            ]
          },
          "metadata": {
            "tags": []
          },
          "execution_count": 64
        }
      ]
    },
    {
      "cell_type": "markdown",
      "metadata": {
        "id": "-Z8K-wS1h9zf",
        "colab_type": "text"
      },
      "source": [
        "# GMMs for the subsets \"1\"."
      ]
    },
    {
      "cell_type": "code",
      "metadata": {
        "id": "v-G0BMB2iIuL",
        "colab_type": "code",
        "outputId": "63c29543-d50d-49c2-982d-f965f63865e5",
        "colab": {
          "base_uri": "https://localhost:8080/",
          "height": 34
        }
      },
      "source": [
        "pca = PCA(0.99)\n",
        "X_train_pca = pca.fit_transform(X_train_1)\n",
        "X_test_1 = []\n",
        "for i in range(len(X_test_2d)):\n",
        "  if y_test[i]==1:\n",
        "    X_test_1.append(X_test_2d[i])\n",
        "X_test_1=np.asarray(X_test_1)\n",
        "X_test_pca = pca.transform(X_test_1)\n",
        "pca.n_components_"
      ],
      "execution_count": 0,
      "outputs": [
        {
          "output_type": "execute_result",
          "data": {
            "text/plain": [
              "176"
            ]
          },
          "metadata": {
            "tags": []
          },
          "execution_count": 65
        }
      ]
    },
    {
      "cell_type": "code",
      "metadata": {
        "id": "ItFHa0THiWr1",
        "colab_type": "code",
        "colab": {}
      },
      "source": [
        "gm = GaussianMixture(n_components=2, random_state=42)\n",
        "y_pred = gm.fit_predict(X_train_1)"
      ],
      "execution_count": 0,
      "outputs": []
    },
    {
      "cell_type": "code",
      "metadata": {
        "id": "EhYnTByGia1F",
        "colab_type": "code",
        "outputId": "05269cfc-ff4e-4e62-e259-1c32207a4fd4",
        "colab": {
          "base_uri": "https://localhost:8080/",
          "height": 50
        }
      },
      "source": [
        "gm.means_"
      ],
      "execution_count": 0,
      "outputs": [
        {
          "output_type": "execute_result",
          "data": {
            "text/plain": [
              "array([[0., 0., 0., ..., 0., 0., 0.],\n",
              "       [0., 0., 0., ..., 0., 0., 0.]])"
            ]
          },
          "metadata": {
            "tags": []
          },
          "execution_count": 67
        }
      ]
    },
    {
      "cell_type": "code",
      "metadata": {
        "id": "0vjT3on9icJ-",
        "colab_type": "code",
        "outputId": "e1ef914b-09a4-427d-883e-b753a28f6100",
        "colab": {
          "base_uri": "https://localhost:8080/",
          "height": 34
        }
      },
      "source": [
        "gm.weights_"
      ],
      "execution_count": 0,
      "outputs": [
        {
          "output_type": "execute_result",
          "data": {
            "text/plain": [
              "array([0.64685982, 0.35314018])"
            ]
          },
          "metadata": {
            "tags": []
          },
          "execution_count": 68
        }
      ]
    },
    {
      "cell_type": "code",
      "metadata": {
        "id": "c4ZG5P2qidgI",
        "colab_type": "code",
        "outputId": "7c4477d6-8c11-472f-9af9-c7c47c43550d",
        "colab": {
          "base_uri": "https://localhost:8080/",
          "height": 269
        }
      },
      "source": [
        "gm.covariances_"
      ],
      "execution_count": 0,
      "outputs": [
        {
          "output_type": "execute_result",
          "data": {
            "text/plain": [
              "array([[[1.e-06, 0.e+00, 0.e+00, ..., 0.e+00, 0.e+00, 0.e+00],\n",
              "        [0.e+00, 1.e-06, 0.e+00, ..., 0.e+00, 0.e+00, 0.e+00],\n",
              "        [0.e+00, 0.e+00, 1.e-06, ..., 0.e+00, 0.e+00, 0.e+00],\n",
              "        ...,\n",
              "        [0.e+00, 0.e+00, 0.e+00, ..., 1.e-06, 0.e+00, 0.e+00],\n",
              "        [0.e+00, 0.e+00, 0.e+00, ..., 0.e+00, 1.e-06, 0.e+00],\n",
              "        [0.e+00, 0.e+00, 0.e+00, ..., 0.e+00, 0.e+00, 1.e-06]],\n",
              "\n",
              "       [[1.e-06, 0.e+00, 0.e+00, ..., 0.e+00, 0.e+00, 0.e+00],\n",
              "        [0.e+00, 1.e-06, 0.e+00, ..., 0.e+00, 0.e+00, 0.e+00],\n",
              "        [0.e+00, 0.e+00, 1.e-06, ..., 0.e+00, 0.e+00, 0.e+00],\n",
              "        ...,\n",
              "        [0.e+00, 0.e+00, 0.e+00, ..., 1.e-06, 0.e+00, 0.e+00],\n",
              "        [0.e+00, 0.e+00, 0.e+00, ..., 0.e+00, 1.e-06, 0.e+00],\n",
              "        [0.e+00, 0.e+00, 0.e+00, ..., 0.e+00, 0.e+00, 1.e-06]]])"
            ]
          },
          "metadata": {
            "tags": []
          },
          "execution_count": 69
        }
      ]
    },
    {
      "cell_type": "code",
      "metadata": {
        "id": "uNtT4j1kifcl",
        "colab_type": "code",
        "outputId": "95595308-e9f9-4a61-c18e-728c3a2ce087",
        "colab": {
          "base_uri": "https://localhost:8080/",
          "height": 34
        }
      },
      "source": [
        "gm.converged_"
      ],
      "execution_count": 0,
      "outputs": [
        {
          "output_type": "execute_result",
          "data": {
            "text/plain": [
              "True"
            ]
          },
          "metadata": {
            "tags": []
          },
          "execution_count": 70
        }
      ]
    },
    {
      "cell_type": "code",
      "metadata": {
        "id": "wEp9rl5ZihXS",
        "colab_type": "code",
        "outputId": "6c71e315-ce35-4f4b-9f29-cac20fa1eea2",
        "colab": {
          "base_uri": "https://localhost:8080/",
          "height": 34
        }
      },
      "source": [
        "gm.n_iter_"
      ],
      "execution_count": 0,
      "outputs": [
        {
          "output_type": "execute_result",
          "data": {
            "text/plain": [
              "29"
            ]
          },
          "metadata": {
            "tags": []
          },
          "execution_count": 71
        }
      ]
    },
    {
      "cell_type": "code",
      "metadata": {
        "id": "LVXHlJX0ikIc",
        "colab_type": "code",
        "outputId": "1c36bb6b-692f-48f9-9d8a-bdfe4ed54812",
        "colab": {
          "base_uri": "https://localhost:8080/",
          "height": 34
        }
      },
      "source": [
        "gm.predict(X_train_1)"
      ],
      "execution_count": 0,
      "outputs": [
        {
          "output_type": "execute_result",
          "data": {
            "text/plain": [
              "array([1, 0, 0, ..., 1, 1, 1])"
            ]
          },
          "metadata": {
            "tags": []
          },
          "execution_count": 72
        }
      ]
    },
    {
      "cell_type": "code",
      "metadata": {
        "id": "RccCRCtPinEJ",
        "colab_type": "code",
        "outputId": "3834bf58-1b1c-43ab-a014-6f9fa6535327",
        "colab": {
          "base_uri": "https://localhost:8080/",
          "height": 134
        }
      },
      "source": [
        "gm.predict_proba(X_train_1)"
      ],
      "execution_count": 0,
      "outputs": [
        {
          "output_type": "execute_result",
          "data": {
            "text/plain": [
              "array([[0., 1.],\n",
              "       [1., 0.],\n",
              "       [1., 0.],\n",
              "       ...,\n",
              "       [0., 1.],\n",
              "       [0., 1.],\n",
              "       [0., 1.]])"
            ]
          },
          "metadata": {
            "tags": []
          },
          "execution_count": 73
        }
      ]
    },
    {
      "cell_type": "code",
      "metadata": {
        "id": "IHwkgRgJipwI",
        "colab_type": "code",
        "outputId": "3529e232-cce0-481f-a4c3-7d92a30eb713",
        "colab": {
          "base_uri": "https://localhost:8080/",
          "height": 50
        }
      },
      "source": [
        "gm.score_samples(X_train_1)"
      ],
      "execution_count": 0,
      "outputs": [
        {
          "output_type": "execute_result",
          "data": {
            "text/plain": [
              "array([3141.64843097, 3229.32205746, 3276.07293819, ..., 3136.75001348,\n",
              "       3131.9332395 , 3066.71611899])"
            ]
          },
          "metadata": {
            "tags": []
          },
          "execution_count": 74
        }
      ]
    },
    {
      "cell_type": "markdown",
      "metadata": {
        "id": "DzfcFlhPitkr",
        "colab_type": "text"
      },
      "source": [
        "# GMMs for the subsets \"4\"."
      ]
    },
    {
      "cell_type": "code",
      "metadata": {
        "id": "rwHv-APwiwM3",
        "colab_type": "code",
        "outputId": "c2d79213-316e-4034-ecc1-df584aa769aa",
        "colab": {
          "base_uri": "https://localhost:8080/",
          "height": 34
        }
      },
      "source": [
        "pca = PCA(0.99)\n",
        "X_train_pca = pca.fit_transform(X_train_4)\n",
        "X_test_4 = []\n",
        "for i in range(len(X_test_2d)):\n",
        "  if y_test[i]==4:\n",
        "    X_test_4.append(X_test_2d[i])\n",
        "X_test_4=np.asarray(X_test_4)\n",
        "X_test_pca = pca.transform(X_test_4)\n",
        "pca.n_components_"
      ],
      "execution_count": 0,
      "outputs": [
        {
          "output_type": "execute_result",
          "data": {
            "text/plain": [
              "287"
            ]
          },
          "metadata": {
            "tags": []
          },
          "execution_count": 75
        }
      ]
    },
    {
      "cell_type": "code",
      "metadata": {
        "id": "w6xwpDiIi5C2",
        "colab_type": "code",
        "colab": {}
      },
      "source": [
        "gm = GaussianMixture(n_components=2, random_state=42)\n",
        "y_pred = gm.fit_predict(X_train_4)"
      ],
      "execution_count": 0,
      "outputs": []
    },
    {
      "cell_type": "code",
      "metadata": {
        "id": "dJPQe4cVi8BD",
        "colab_type": "code",
        "outputId": "990c27ef-5c2b-4185-83ed-667dc42b185c",
        "colab": {
          "base_uri": "https://localhost:8080/",
          "height": 50
        }
      },
      "source": [
        "gm.means_"
      ],
      "execution_count": 0,
      "outputs": [
        {
          "output_type": "execute_result",
          "data": {
            "text/plain": [
              "array([[0., 0., 0., ..., 0., 0., 0.],\n",
              "       [0., 0., 0., ..., 0., 0., 0.]])"
            ]
          },
          "metadata": {
            "tags": []
          },
          "execution_count": 77
        }
      ]
    },
    {
      "cell_type": "code",
      "metadata": {
        "id": "SsUFp18li98p",
        "colab_type": "code",
        "outputId": "51eadc11-f56f-4f4c-c6c6-2e316471678f",
        "colab": {
          "base_uri": "https://localhost:8080/",
          "height": 34
        }
      },
      "source": [
        "gm.weights_"
      ],
      "execution_count": 0,
      "outputs": [
        {
          "output_type": "execute_result",
          "data": {
            "text/plain": [
              "array([0.69513812, 0.30486188])"
            ]
          },
          "metadata": {
            "tags": []
          },
          "execution_count": 78
        }
      ]
    },
    {
      "cell_type": "code",
      "metadata": {
        "id": "8BQZcyPdi_bq",
        "colab_type": "code",
        "outputId": "107bb8f0-4d4d-43c7-f2bd-1b2cab09bbd0",
        "colab": {
          "base_uri": "https://localhost:8080/",
          "height": 269
        }
      },
      "source": [
        "gm.covariances_"
      ],
      "execution_count": 0,
      "outputs": [
        {
          "output_type": "execute_result",
          "data": {
            "text/plain": [
              "array([[[1.e-06, 0.e+00, 0.e+00, ..., 0.e+00, 0.e+00, 0.e+00],\n",
              "        [0.e+00, 1.e-06, 0.e+00, ..., 0.e+00, 0.e+00, 0.e+00],\n",
              "        [0.e+00, 0.e+00, 1.e-06, ..., 0.e+00, 0.e+00, 0.e+00],\n",
              "        ...,\n",
              "        [0.e+00, 0.e+00, 0.e+00, ..., 1.e-06, 0.e+00, 0.e+00],\n",
              "        [0.e+00, 0.e+00, 0.e+00, ..., 0.e+00, 1.e-06, 0.e+00],\n",
              "        [0.e+00, 0.e+00, 0.e+00, ..., 0.e+00, 0.e+00, 1.e-06]],\n",
              "\n",
              "       [[1.e-06, 0.e+00, 0.e+00, ..., 0.e+00, 0.e+00, 0.e+00],\n",
              "        [0.e+00, 1.e-06, 0.e+00, ..., 0.e+00, 0.e+00, 0.e+00],\n",
              "        [0.e+00, 0.e+00, 1.e-06, ..., 0.e+00, 0.e+00, 0.e+00],\n",
              "        ...,\n",
              "        [0.e+00, 0.e+00, 0.e+00, ..., 1.e-06, 0.e+00, 0.e+00],\n",
              "        [0.e+00, 0.e+00, 0.e+00, ..., 0.e+00, 1.e-06, 0.e+00],\n",
              "        [0.e+00, 0.e+00, 0.e+00, ..., 0.e+00, 0.e+00, 1.e-06]]])"
            ]
          },
          "metadata": {
            "tags": []
          },
          "execution_count": 79
        }
      ]
    },
    {
      "cell_type": "code",
      "metadata": {
        "id": "EmlRx3NdjBQR",
        "colab_type": "code",
        "outputId": "886ed6a6-47a7-4a80-af27-302dd8cc73bb",
        "colab": {
          "base_uri": "https://localhost:8080/",
          "height": 34
        }
      },
      "source": [
        "gm.converged_"
      ],
      "execution_count": 0,
      "outputs": [
        {
          "output_type": "execute_result",
          "data": {
            "text/plain": [
              "True"
            ]
          },
          "metadata": {
            "tags": []
          },
          "execution_count": 80
        }
      ]
    },
    {
      "cell_type": "code",
      "metadata": {
        "id": "UZ2rBG5LjC4g",
        "colab_type": "code",
        "outputId": "77586458-5780-4874-bfbb-0d2e72e1ea5b",
        "colab": {
          "base_uri": "https://localhost:8080/",
          "height": 34
        }
      },
      "source": [
        "gm.n_iter_"
      ],
      "execution_count": 0,
      "outputs": [
        {
          "output_type": "execute_result",
          "data": {
            "text/plain": [
              "33"
            ]
          },
          "metadata": {
            "tags": []
          },
          "execution_count": 81
        }
      ]
    },
    {
      "cell_type": "code",
      "metadata": {
        "id": "cRDpkrJzjElp",
        "colab_type": "code",
        "outputId": "46a53e2b-3f0b-4f8e-e226-6758acd97095",
        "colab": {
          "base_uri": "https://localhost:8080/",
          "height": 34
        }
      },
      "source": [
        "gm.predict(X_train_4)"
      ],
      "execution_count": 0,
      "outputs": [
        {
          "output_type": "execute_result",
          "data": {
            "text/plain": [
              "array([1, 0, 1, ..., 1, 1, 0])"
            ]
          },
          "metadata": {
            "tags": []
          },
          "execution_count": 82
        }
      ]
    },
    {
      "cell_type": "code",
      "metadata": {
        "id": "oY5MLrTzjHFv",
        "colab_type": "code",
        "outputId": "df720928-c58e-4ea2-fbd1-bcc57dc1dfc7",
        "colab": {
          "base_uri": "https://localhost:8080/",
          "height": 134
        }
      },
      "source": [
        "gm.predict_proba(X_train_4)"
      ],
      "execution_count": 0,
      "outputs": [
        {
          "output_type": "execute_result",
          "data": {
            "text/plain": [
              "array([[0.00000000e+000, 1.00000000e+000],\n",
              "       [1.00000000e+000, 2.19645925e-157],\n",
              "       [0.00000000e+000, 1.00000000e+000],\n",
              "       ...,\n",
              "       [0.00000000e+000, 1.00000000e+000],\n",
              "       [0.00000000e+000, 1.00000000e+000],\n",
              "       [1.00000000e+000, 1.42990870e-262]])"
            ]
          },
          "metadata": {
            "tags": []
          },
          "execution_count": 83
        }
      ]
    },
    {
      "cell_type": "code",
      "metadata": {
        "id": "uF9lZ7G0jJLZ",
        "colab_type": "code",
        "outputId": "8cdb4287-4031-46eb-99ad-94fc34a581ef",
        "colab": {
          "base_uri": "https://localhost:8080/",
          "height": 50
        }
      },
      "source": [
        "gm.score_samples(X_train_4)"
      ],
      "execution_count": 0,
      "outputs": [
        {
          "output_type": "execute_result",
          "data": {
            "text/plain": [
              "array([2069.03641092, 2431.88492083, 1890.84826116, ..., 2171.53537791,\n",
              "       2172.36992319, 2534.57148733])"
            ]
          },
          "metadata": {
            "tags": []
          },
          "execution_count": 84
        }
      ]
    },
    {
      "cell_type": "markdown",
      "metadata": {
        "id": "ZnNM9peNSXsV",
        "colab_type": "text"
      },
      "source": [
        "#Graph results of our experiments and qualitative assessment."
      ]
    },
    {
      "cell_type": "code",
      "metadata": {
        "id": "slXHLvnwkvKW",
        "colab_type": "code",
        "outputId": "dd329bc0-f419-44a4-bfe3-e261af5a25c0",
        "colab": {
          "base_uri": "https://localhost:8080/",
          "height": 288
        }
      },
      "source": [
        "names = ['Set of 5', 'Set of 0', 'Set of 1','Set of 4']\n",
        "values = [2, 2, 2, 2]\n",
        "plt.bar(names, values)\n",
        "plt.rc('xtick', labelsize=6)\n",
        "plt.ylim(0,3)\n",
        "plt.ylabel(\"K value\", fontsize = \"xx-large\")\n",
        "plt.title(\"Best K value for 4 subsets\", color = \"blue\", fontsize = \"xx-large\")\n",
        "plt.show()"
      ],
      "execution_count": 0,
      "outputs": [
        {
          "output_type": "display_data",
          "data": {
            "image/png": "[encoded data removed]",
            "text/plain": [
              "<Figure size 432x288 with 1 Axes>"
            ]
          },
          "metadata": {
            "tags": [],
            "needs_background": "light"
          }
        }
      ]
    },
    {
      "cell_type": "markdown",
      "metadata": {
        "id": "3KPXnv3RlJV-",
        "colab_type": "text"
      },
      "source": [
        "From the Silhouette Coefficient charts we observed K = 2,3,4,5 are all good choices for clustering. Next, we check the chart of Silhouette score which shows that K=2 has the highest value for each subsets.\n",
        "\n",
        "In conclusion, all of the 4 subsets having the best K value equal to 2."
      ]
    },
    {
      "cell_type": "code",
      "metadata": {
        "id": "Vblxj5JfSdUR",
        "colab_type": "code",
        "outputId": "36154eb6-a0ab-4e9c-99fb-120d7aef780f",
        "colab": {
          "base_uri": "https://localhost:8080/",
          "height": 288
        }
      },
      "source": [
        "names = ['Origin', 'K-means(k=50)', 'K-means with best K(K=90)']\n",
        "values = [0.9198, 0.9125, 0.9337]\n",
        "plt.bar(names, values)\n",
        "plt.rc('xtick', labelsize=6)\n",
        "plt.ylim(0.91,0.94)\n",
        "plt.ylabel(\"Accuracy Score\")\n",
        "plt.title(\"Accuracy Of Logistic Regression\", color = \"blue\", fontsize = \"xx-large\")\n",
        "plt.show()"
      ],
      "execution_count": 0,
      "outputs": [
        {
          "output_type": "display_data",
          "data": {
            "image/png": "[encoded data removed]",
            "text/plain": [
              "<Figure size 432x288 with 1 Axes>"
            ]
          },
          "metadata": {
            "tags": [],
            "needs_background": "light"
          }
        }
      ]
    },
    {
      "cell_type": "markdown",
      "metadata": {
        "id": "hkoN2ElzlvS6",
        "colab_type": "text"
      },
      "source": [
        "In this project, we first trained MNIST dataset with Logistic Regression model on the whole dataset instead of sub-sets and test its prediction rate. The prediction accuracy for orginial data is 91.98%. \n",
        "\n",
        "And then we implement the K-means algorithm as dimensional reduction tool. With cluster = 50, the accuracy doesn't show improvement, but get slice lower to 91.25%. \n",
        "\n",
        "Since the cluter number is arbitary, we then chose k with in interval of 10 between 10 to 100 with 3 times of cross validation, and found the best K in 10-90. It took us more than 3 hours to get this best K. The accuracy increased from 91.98% to 93.37% with this best K. "
      ]
    },
    {
      "cell_type": "code",
      "metadata": {
        "id": "mTLDxnPOTFzW",
        "colab_type": "code",
        "outputId": "0519c361-5ae7-42f7-d46a-baf15016ec4d",
        "colab": {
          "base_uri": "https://localhost:8080/",
          "height": 34
        }
      },
      "source": [
        "Error_rate_improved = 1 - (1-0.9337)/(1-0.9198) \n",
        "Error_rate_improved"
      ],
      "execution_count": 0,
      "outputs": [
        {
          "output_type": "execute_result",
          "data": {
            "text/plain": [
              "0.17331670822942657"
            ]
          },
          "metadata": {
            "tags": []
          },
          "execution_count": 12
        }
      ]
    },
    {
      "cell_type": "code",
      "metadata": {
        "id": "wSOnvry3cD0L",
        "colab_type": "code",
        "outputId": "059e5a16-be2f-4654-e1fd-d10637d0f015",
        "colab": {
          "base_uri": "https://localhost:8080/",
          "height": 288
        }
      },
      "source": [
        "names = ['Origin', 'K=50', 'k=90']\n",
        "values = [1-0.9198, 1-0.9125, 1-0.9337]\n",
        "plt.bar(names, values)\n",
        "plt.rc('xtick', labelsize=6)\n",
        "plt.ylim(0,0.1)\n",
        "plt.ylabel(\"Error Rate\", fontsize = \"xx-large\")\n",
        "plt.title(\"Error Rate Chart\", color = \"blue\", fontsize = \"xx-large\")\n",
        "plt.show()"
      ],
      "execution_count": 0,
      "outputs": [
        {
          "output_type": "display_data",
          "data": {
            "image/png": "[encoded data removed]",
            "text/plain": [
              "<Figure size 432x288 with 1 Axes>"
            ]
          },
          "metadata": {
            "tags": [],
            "needs_background": "light"
          }
        }
      ]
    },
    {
      "cell_type": "markdown",
      "metadata": {
        "id": "MoZt-_QKUvXx",
        "colab_type": "text"
      },
      "source": [
        "By using K-means clustering, the error rate dropped 17.33%."
      ]
    },
    {
      "cell_type": "code",
      "metadata": {
        "id": "_FI7Un6gShq8",
        "colab_type": "code",
        "outputId": "138adb68-3e69-47bd-8ff2-72e89b377b45",
        "colab": {
          "base_uri": "https://localhost:8080/",
          "height": 280
        }
      },
      "source": [
        "names = ['Origin', 'K-means(K=50)', 'K-means(K = 90)']\n",
        "values = [0.9706, 0.9338, 0.9405]\n",
        "plt.bar(names, values)\n",
        "plt.rc('xtick', labelsize = 6)\n",
        "plt.ylim(0,1) \n",
        "plt.ylabel(\"Accuracy Score\")\n",
        "plt.title(\"Accuracy Of Random Forest\", color = \"blue\", fontsize = \"xx-large\")\n",
        "plt.show()"
      ],
      "execution_count": 0,
      "outputs": [
        {
          "output_type": "display_data",
          "data": {
            "image/png": "[encoded data removed]",
            "text/plain": [
              "<Figure size 432x288 with 1 Axes>"
            ]
          },
          "metadata": {
            "tags": [],
            "needs_background": "light"
          }
        }
      ]
    },
    {
      "cell_type": "markdown",
      "metadata": {
        "id": "5C7mw6gaSdG_",
        "colab_type": "text"
      },
      "source": [
        "We've also trained the whole MNIST dataset with Random Forest model. The prediction accuracy for orginial data is 97.06%, which is pretty high to start with.\n",
        "\n",
        "Then again, we implement the K-means algorithm as dimensional reduction tool. With cluster = 50, the accuracy doesn't show improvement, but get lower to 93.38%.\n",
        "\n",
        "And last we reduced dimension again with the K-means algorithm with cluster = 90, the best K. The accuracy increased to 94.05% from when K = 50. However, accuracy is still lower the original data. "
      ]
    },
    {
      "cell_type": "code",
      "metadata": {
        "id": "Hvkp3J4bntRJ",
        "colab_type": "code",
        "outputId": "ba2d71ee-07e3-4c6a-e7dd-9af985f820c0",
        "colab": {
          "base_uri": "https://localhost:8080/",
          "height": 288
        }
      },
      "source": [
        "names = ['RF', 'RF with K(50)', 'RF with K(90)']\n",
        "values = [66.41, 117.60, 155.23]\n",
        "plt.bar(names, values)\n",
        "plt.rc('xtick', labelsize=6)\n",
        "plt.ylim(0,200)\n",
        "plt.ylabel(\"Time (sec)\", fontsize = \"xx-large\")\n",
        "plt.title(\"Training Time\", color = \"blue\", fontsize = \"xx-large\")\n",
        "plt.show()"
      ],
      "execution_count": 0,
      "outputs": [
        {
          "output_type": "display_data",
          "data": {
            "image/png": "[encoded data removed]",
            "text/plain": [
              "<Figure size 432x288 with 1 Axes>"
            ]
          },
          "metadata": {
            "tags": [],
            "needs_background": "light"
          }
        }
      ]
    },
    {
      "cell_type": "markdown",
      "metadata": {
        "id": "UUeZBxiieL12",
        "colab_type": "text"
      },
      "source": [
        "From the experiment, we observer that using K-means clustering as a dimension reduction tool, the training time even increased after the transformation.\n",
        "Therefore, also K-means is a feasible dimension reduction technique, it is not a suit for this dataset since it prolonged the training time and lower the accuracy rate.\n",
        "\n",
        "Another aspect that need to be taken into consideration is that the process of training a k-means transformation takes time as well. In this practice, take k=90, the training time for k-means transformation took 570.63s (9.5 minuts)."
      ]
    },
    {
      "cell_type": "code",
      "metadata": {
        "id": "ngQm1A76fQUC",
        "colab_type": "code",
        "colab": {}
      },
      "source": [
        ""
      ],
      "execution_count": 0,
      "outputs": []
    },
    {
      "cell_type": "code",
      "metadata": {
        "id": "KDKWAz1ijvqM",
        "colab_type": "code",
        "colab": {}
      },
      "source": [
        ""
      ],
      "execution_count": 0,
      "outputs": []
    }
  ]
}