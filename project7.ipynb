{
  "nbformat": 4,
  "nbformat_minor": 0,
  "metadata": {
    "colab": {
      "name": "project7.ipynb",
      "provenance": [],
      "authorship_tag": "ABX9TyPtWUu6x+2hCWO2nfYYSLhk",
      "include_colab_link": true
    },
    "kernelspec": {
      "name": "python3",
      "display_name": "Python 3"
    }
  },
  "cells": [
    {
      "cell_type": "markdown",
      "metadata": {
        "id": "view-in-github",
        "colab_type": "text"
      },
      "source": [
        "<a href=\"https://colab.research.google.com/github/gegretel/AML7/blob/master/project7.ipynb\" target=\"_parent\"><img src=\"https://colab.research.google.com/assets/colab-badge.svg\" alt=\"Open In Colab\"/></a>"
      ]
    },
    {
      "cell_type": "code",
      "metadata": {
        "id": "zxgcPuo6uwjM",
        "colab_type": "code",
        "colab": {}
      },
      "source": [
        "#To support both python 2 and python 3\n",
        "from __future__ import division, print_function, unicode_literals\n",
        "\n",
        "# Common imports\n",
        "import numpy as np\n",
        "import os\n",
        "\n",
        "# to make this notebook's output stable across runs\n",
        "np.random.seed(42)\n",
        "\n",
        "# To plot pretty figures\n",
        "%matplotlib inline\n",
        "import matplotlib as mpl\n",
        "import matplotlib.pyplot as plt\n",
        "mpl.rc('axes', labelsize=14)\n",
        "mpl.rc('xtick', labelsize=12)\n",
        "mpl.rc('ytick', labelsize=12)\n",
        "\n",
        "# Where to save the figures\n",
        "PROJECT_ROOT_DIR = \".\"\n",
        "CHAPTER_ID = \"fundamentals\"\n",
        "\n",
        "def save_fig(fig_id, tight_layout=True):\n",
        "    path = os.path.join(PROJECT_ROOT_DIR, \"images\", CHAPTER_ID, fig_id + \".png\")\n",
        "    print(\"Saving figure\", fig_id)\n",
        "    if tight_layout:\n",
        "        plt.tight_layout()\n",
        "    plt.savefig(path, format='png', dpi=300)\n",
        "\n",
        "# Ignore useless warnings (see SciPy issue #5998)\n",
        "import warnings\n",
        "warnings.filterwarnings(action=\"ignore\", message=\"^internal gelsd\")# "
      ],
      "execution_count": 0,
      "outputs": []
    },
    {
      "cell_type": "code",
      "metadata": {
        "id": "P9NptvURvd5r",
        "colab_type": "code",
        "colab": {
          "base_uri": "https://localhost:8080/",
          "height": 34
        },
        "outputId": "d4e1d34b-6f00-4afc-e809-d7d4595a8388"
      },
      "source": [
        "from google.colab import drive\n",
        "drive.mount('/content/drive')"
      ],
      "execution_count": 71,
      "outputs": [
        {
          "output_type": "stream",
          "text": [
            "Mounted at /content/drive\n"
          ],
          "name": "stdout"
        }
      ]
    },
    {
      "cell_type": "code",
      "metadata": {
        "id": "vFRaTUE5vkGr",
        "colab_type": "code",
        "colab": {
          "base_uri": "https://localhost:8080/",
          "height": 68
        },
        "outputId": "f6b340e2-fa3d-40da-db8e-13e6f36a51da"
      },
      "source": [
        "%ls /content"
      ],
      "execution_count": 72,
      "outputs": [
        {
          "output_type": "stream",
          "text": [
            "shell-init: error retrieving current directory: getcwd: cannot access parent directories: No such file or directory\n",
            "ls: cannot access '/content/gdrive': Transport endpoint is not connected\n",
            "\u001b[0m\u001b[01;34mdrive\u001b[0m/  \u001b[01;34mgdrive\u001b[0m/  \u001b[01;34msample_data\u001b[0m/\n"
          ],
          "name": "stdout"
        }
      ]
    },
    {
      "cell_type": "code",
      "metadata": {
        "id": "_r4Zok_0v1h_",
        "colab_type": "code",
        "colab": {
          "base_uri": "https://localhost:8080/",
          "height": 51
        },
        "outputId": "82a45038-fa1d-46ce-ad76-91792eb15a1d"
      },
      "source": [
        "%ls"
      ],
      "execution_count": 73,
      "outputs": [
        {
          "output_type": "stream",
          "text": [
            "shell-init: error retrieving current directory: getcwd: cannot access parent directories: No such file or directory\n",
            "ls: cannot open directory '.': Transport endpoint is not connected\n"
          ],
          "name": "stdout"
        }
      ]
    },
    {
      "cell_type": "code",
      "metadata": {
        "id": "Q_27o08Xv50C",
        "colab_type": "code",
        "colab": {
          "base_uri": "https://localhost:8080/",
          "height": 34
        },
        "outputId": "5a29ba4c-90b5-4505-8cfc-0655b847e0a9"
      },
      "source": [
        "from google.colab import drive\n",
        "drive.mount('/content/gdrive')"
      ],
      "execution_count": 74,
      "outputs": [
        {
          "output_type": "stream",
          "text": [
            "Mounted at /content/gdrive\n"
          ],
          "name": "stdout"
        }
      ]
    },
    {
      "cell_type": "code",
      "metadata": {
        "id": "q9moaP9Ov--j",
        "colab_type": "code",
        "colab": {}
      },
      "source": [
        "import os\n",
        "os.chdir(\"/content/gdrive/My Drive/\")"
      ],
      "execution_count": 0,
      "outputs": []
    },
    {
      "cell_type": "code",
      "metadata": {
        "id": "IartQakZxoLc",
        "colab_type": "code",
        "colab": {
          "base_uri": "https://localhost:8080/",
          "height": 71
        },
        "outputId": "a7d7f012-564a-43fc-a63b-fdf0c6a40922"
      },
      "source": [
        "import numpy as np\n",
        "import pandas as pd\n",
        "import math\n",
        "import sklearn\n",
        "import sklearn.preprocessing\n",
        "import datetime\n",
        "import os\n",
        "import matplotlib.pyplot as plt\n",
        "import tensorflow as tf\n",
        "\n",
        "\n",
        "from keras.models import Sequential\n",
        "from keras.layers import LSTM,Dense\n",
        "\n",
        "\n",
        "from keras.models import load_model\n",
        "\n",
        "# split data in 80%/10%/10% train/validation/test sets\n",
        "valid_set_size_percentage = 10 \n",
        "test_set_size_percentage = 10 \n",
        "\n",
        "#display parent directory and working directory\n",
        "print(os.path.dirname(os.getcwd())+':', os.listdir(os.path.dirname(os.getcwd())));\n",
        "print(os.getcwd()+':', os.listdir(os.getcwd()));"
      ],
      "execution_count": 76,
      "outputs": [
        {
          "output_type": "stream",
          "text": [
            "/content/gdrive: ['.shortcut-targets-by-id', 'My Drive', '.Trash']\n",
            "/content/gdrive/My Drive: ['Getting started.pdf', 'ESL Outline.doc', 'ESL Outline.doc.gdoc', 'Lab6.html', 'Sponsorship Proposal (2).pdf', '2019 四校春晚赞助合作计划书FIN.pdf', 'IMG_3091.jpg', 'Ticket BackSide_v2-新 (1).jpg', 'Ticket Design_v2.jpg', 'Ticket Design_VIP_v2.jpg', 'Ticket BackSide_v2-新 (1).psd', 'Ticket Design_v2.psd', 'Ticket Design_VIP_v2.psd', 'Ticket BackSide_v2-新.jpg', 'Ticket BackSide_v2-新.psd', '1&4  00 (1).psd', '2&3.psd', '中国蓝小记者访美VCR-1 mp4版VA0.mp4', 'SJU学联拜年视频.MP4', '万茜.MP4', 'SJU CS教授AMEEN拜年视频.MP4', '小红书网红 是你的剧老板.MP4', '喻恩泰.MP4', '涂松岩.MP4', '“知否伴奏.mp3”的副本', '23页改 (1).rar', '23页改.rar', '1&4  00.jpg', '1&4  00.psd', '中国蓝小记者访美VCR-2 mp4版VA0.mp4', 'iot sos_video.MOV', 'diodes2.zip', '农民专业合作社政府促进法律制度的研究.gdoc', 'iot rainbow.zip', '现代操作系统  原书第4版@www.java1234.com.pdf', 'traffic3.MOV', 'chaser.ino', 'blink.mp4', 'chaser.mp4', 'diode.txt', 'led.asc', 'led.png', 'RGB.ino', 'RGB (3).mp4', 'RGB (2).mp4', 'RGB (1).mp4', 'RGB.mp4', 'onlineshop_DDL-1.docx', 'Branching.asm', 'dump.asm', 'fengweihua (1).docx', '李舒敏8.1日记 (1).RTF', '日记二-张惠舒 (1).docx', '李嘉欣 (3).docx', '周震可 (1).docx', 'zhouyijun (3).docx', '第二次 王雅静 (1).doc', 'Huilan Yang (1).docx', '张彤 暑期项目日记2 (1).docx', 'XU LAN 徐岚 (1).docx', '陈曦伟 28 (1).docx', 'zhuzheyu (3).docx', '第二篇日记 胡浩然 (1).docx', 'wangjiachen (1).jpg', 'Huilan Yang.docx', 'wangjiachen.jpg', 'zhouyijun (2).docx', 'XU LAN 徐岚.docx', 'zhuzheyu (2).docx', '周震可.docx', '张彤 暑期项目日记2.docx', '日记二-张惠舒.docx', '日记周一到周四聂俊 (2).docx', '朱莹——日记2 (1).docx', '李嘉欣 (2).docx', '第二篇日记 胡浩然.docx', '袁梦 (3).docx', '李舒敏8.1日记.RTF', 'fengweihua.docx', '陈曦伟 28.docx', 'IMG_8378.JPG', '日记周一到周四聂俊 (1).docx', 'zhuzheyu (1).docx', '8.8 玮华.docx', '王雅静 第四次.doc', '杨惠兰0808.docx', '李舒敏日记 8.8.RTF', '李嘉欣 (1).docx', '朱莹——日记2.docx', '日记四-张惠舒.docx', '日记周一到周四聂俊.docx', '徐岚LAN XU.docx', '张彤.docx', '陈曦伟 8.8.docx', '聂俊 (1).docx', '第四篇日记 胡浩然.docx', '袁梦 (2).docx', '朱莹的日记4.docx', 'zhouzhenke.png', 'zhouyijun (1).docx', 'pengtingna (2).docx', 'pengtingna (1).docx', 'pengtingna.docx', '8.8 吴紫嫣.docx', '8.1 吴紫嫣 (1).docx', '8.1 吴紫嫣.docx', '第二次 王雅静.doc', '袁梦 (1).docx', '8.11 吴紫嫣.gdoc', '8.11 吴紫嫣.docx', 'zhouyijun.docx', '张彤 暑期日记.docx', '8月16日 冯玮华.docx', 'zhuzheyu.docx', '日记六-张惠舒.docx', '徐岚 LAN XU.docx', '彭婷娜.docx', '曦伟日记 8.15.docx', '李嘉欣.docx', '朱莹的日记6.docx', '李淑敏8.15日记.RTF', '王佳晨.docx', '第六篇日记 胡浩然.docx', '聂俊.docx', 'zhouzhenke.docx', '杨惠兰0815.docx', '袁梦.docx', '王雅静 第六次.doc', 'ArrryDemo-getong.java', ' IAD tictac_getongliu.zip', 'IAD Life v1_getong.zip', '节目单2&3.jpg', '节目单1&4  00.jpg', 'Colab Notebooks', 'images', 'Project5.gslides', 'bridge.png', 'house.png', 'bridge (1).png', 'missa.png', 'europe.png', 'Project6-report.docx']\n"
          ],
          "name": "stdout"
        }
      ]
    },
    {
      "cell_type": "markdown",
      "metadata": {
        "id": "qZsRtJ3i5ROj",
        "colab_type": "text"
      },
      "source": [
        "# **Prediction of Closing Price of Stock LSTM**"
      ]
    },
    {
      "cell_type": "code",
      "metadata": {
        "id": "UJBF9g6CtJ41",
        "colab_type": "code",
        "colab": {
          "base_uri": "https://localhost:8080/",
          "height": 204
        },
        "outputId": "1f524257-9ca3-41c7-a1c4-3f23d8ae825a"
      },
      "source": [
        "#open the csv, chose company_N, where N = {A, B, C or D}\n",
        "df = pd.read_csv('./Colab Notebooks/AAPL.csv')\n",
        "df.head()"
      ],
      "execution_count": 122,
      "outputs": [
        {
          "output_type": "execute_result",
          "data": {
            "text/html": [
              "<div>\n",
              "<style scoped>\n",
              "    .dataframe tbody tr th:only-of-type {\n",
              "        vertical-align: middle;\n",
              "    }\n",
              "\n",
              "    .dataframe tbody tr th {\n",
              "        vertical-align: top;\n",
              "    }\n",
              "\n",
              "    .dataframe thead th {\n",
              "        text-align: right;\n",
              "    }\n",
              "</style>\n",
              "<table border=\"1\" class=\"dataframe\">\n",
              "  <thead>\n",
              "    <tr style=\"text-align: right;\">\n",
              "      <th></th>\n",
              "      <th>Date</th>\n",
              "      <th>Open</th>\n",
              "      <th>High</th>\n",
              "      <th>Low</th>\n",
              "      <th>Close</th>\n",
              "      <th>Adj Close</th>\n",
              "      <th>Volume</th>\n",
              "    </tr>\n",
              "  </thead>\n",
              "  <tbody>\n",
              "    <tr>\n",
              "      <th>0</th>\n",
              "      <td>4/25/2019</td>\n",
              "      <td>206.830002</td>\n",
              "      <td>207.759995</td>\n",
              "      <td>205.119995</td>\n",
              "      <td>205.279999</td>\n",
              "      <td>202.627808</td>\n",
              "      <td>18543200</td>\n",
              "    </tr>\n",
              "    <tr>\n",
              "      <th>1</th>\n",
              "      <td>4/26/2019</td>\n",
              "      <td>204.899994</td>\n",
              "      <td>205.000000</td>\n",
              "      <td>202.119995</td>\n",
              "      <td>204.300003</td>\n",
              "      <td>201.660461</td>\n",
              "      <td>18649100</td>\n",
              "    </tr>\n",
              "    <tr>\n",
              "      <th>2</th>\n",
              "      <td>4/29/2019</td>\n",
              "      <td>204.399994</td>\n",
              "      <td>205.970001</td>\n",
              "      <td>203.860001</td>\n",
              "      <td>204.610001</td>\n",
              "      <td>201.966461</td>\n",
              "      <td>22204700</td>\n",
              "    </tr>\n",
              "    <tr>\n",
              "      <th>3</th>\n",
              "      <td>4/30/2019</td>\n",
              "      <td>203.059998</td>\n",
              "      <td>203.399994</td>\n",
              "      <td>199.110001</td>\n",
              "      <td>200.669998</td>\n",
              "      <td>198.077362</td>\n",
              "      <td>46534900</td>\n",
              "    </tr>\n",
              "    <tr>\n",
              "      <th>4</th>\n",
              "      <td>5/1/2019</td>\n",
              "      <td>209.880005</td>\n",
              "      <td>215.309998</td>\n",
              "      <td>209.229996</td>\n",
              "      <td>210.520004</td>\n",
              "      <td>207.800110</td>\n",
              "      <td>64827300</td>\n",
              "    </tr>\n",
              "  </tbody>\n",
              "</table>\n",
              "</div>"
            ],
            "text/plain": [
              "        Date        Open        High  ...       Close   Adj Close    Volume\n",
              "0  4/25/2019  206.830002  207.759995  ...  205.279999  202.627808  18543200\n",
              "1  4/26/2019  204.899994  205.000000  ...  204.300003  201.660461  18649100\n",
              "2  4/29/2019  204.399994  205.970001  ...  204.610001  201.966461  22204700\n",
              "3  4/30/2019  203.059998  203.399994  ...  200.669998  198.077362  46534900\n",
              "4   5/1/2019  209.880005  215.309998  ...  210.520004  207.800110  64827300\n",
              "\n",
              "[5 rows x 7 columns]"
            ]
          },
          "metadata": {
            "tags": []
          },
          "execution_count": 122
        }
      ]
    },
    {
      "cell_type": "markdown",
      "metadata": {
        "id": "D821W3Tg8npr",
        "colab_type": "text"
      },
      "source": [
        "## **Data visualization**"
      ]
    },
    {
      "cell_type": "code",
      "metadata": {
        "id": "-AyItUXCtIWh",
        "colab_type": "code",
        "colab": {
          "base_uri": "https://localhost:8080/",
          "height": 136
        },
        "outputId": "213f4fc0-c90a-4751-bb8b-771eb8965a44"
      },
      "source": [
        "df_new = df\n",
        "#set date as index\n",
        "df_new['Date'] = pd.to_datetime(df_new['Date'])\n",
        "df_new.set_index('Date', inplace=True)\n",
        "#keep only the 'Close' column\n",
        "df_new = df['Close']\n",
        "\n",
        "df_new.head()"
      ],
      "execution_count": 123,
      "outputs": [
        {
          "output_type": "execute_result",
          "data": {
            "text/plain": [
              "Date\n",
              "2019-04-25    205.279999\n",
              "2019-04-26    204.300003\n",
              "2019-04-29    204.610001\n",
              "2019-04-30    200.669998\n",
              "2019-05-01    210.520004\n",
              "Name: Close, dtype: float64"
            ]
          },
          "metadata": {
            "tags": []
          },
          "execution_count": 123
        }
      ]
    },
    {
      "cell_type": "code",
      "metadata": {
        "id": "NbygsgKKzvGs",
        "colab_type": "code",
        "colab": {
          "base_uri": "https://localhost:8080/",
          "height": 34
        },
        "outputId": "75fad9fd-094e-4a11-b18a-15e0d7badd7f"
      },
      "source": [
        "len(df_new)"
      ],
      "execution_count": 127,
      "outputs": [
        {
          "output_type": "execute_result",
          "data": {
            "text/plain": [
              "253"
            ]
          },
          "metadata": {
            "tags": []
          },
          "execution_count": 127
        }
      ]
    },
    {
      "cell_type": "code",
      "metadata": {
        "id": "GEsyAiyez0hQ",
        "colab_type": "code",
        "colab": {
          "base_uri": "https://localhost:8080/",
          "height": 595
        },
        "outputId": "cc031a74-889f-4d78-e352-ceb4202016ef"
      },
      "source": [
        "plt.figure(figsize = (15,10))\n",
        "plt.plot(df_new, label='Close Price History')\n",
        "plt.legend(loc='best')\n",
        "plt.show()"
      ],
      "execution_count": 129,
      "outputs": [
        {
          "output_type": "display_data",
          "data": {
            "image/png": "[encoded data removed]",
            "text/plain": [
              "<Figure size 1080x720 with 1 Axes>"
            ]
          },
          "metadata": {
            "tags": [],
            "needs_background": "light"
          }
        }
      ]
    },
    {
      "cell_type": "markdown",
      "metadata": {
        "id": "DvUYObnN9FFF",
        "colab_type": "text"
      },
      "source": [
        "## **Data normalization**"
      ]
    },
    {
      "cell_type": "code",
      "metadata": {
        "id": "xuO1AFESs-Uj",
        "colab_type": "code",
        "colab": {
          "base_uri": "https://localhost:8080/",
          "height": 34
        },
        "outputId": "fffadb64-457d-4bf2-8e48-615c77952586"
      },
      "source": [
        "#Create a new dataframe with only the 'Close column\n",
        "data = df.filter(['Close'])\n",
        "#Convert the dataframe to a numpy array\n",
        "dataset = data.values\n",
        "#Get the number of rows to train the model on\n",
        "training_data_len = int(np.ceil( len(dataset) * .8 ))\n",
        "\n",
        "training_data_len"
      ],
      "execution_count": 103,
      "outputs": [
        {
          "output_type": "execute_result",
          "data": {
            "text/plain": [
              "203"
            ]
          },
          "metadata": {
            "tags": []
          },
          "execution_count": 103
        }
      ]
    },
    {
      "cell_type": "code",
      "metadata": {
        "id": "hejRux3Yt6X9",
        "colab_type": "code",
        "colab": {
          "base_uri": "https://localhost:8080/",
          "height": 1000
        },
        "outputId": "c2485168-1dae-430b-98c8-e66a9186255b"
      },
      "source": [
        "#Scale the data\n",
        "from sklearn.preprocessing import MinMaxScaler\n",
        "\n",
        "scaler = MinMaxScaler(feature_range=(0,1))\n",
        "scaled_data = scaler.fit_transform(dataset)\n",
        "\n",
        "scaled_data"
      ],
      "execution_count": 104,
      "outputs": [
        {
          "output_type": "execute_result",
          "data": {
            "text/plain": [
              "array([[0.20779723],\n",
              "       [0.20142949],\n",
              "       [0.20344377],\n",
              "       [0.17784271],\n",
              "       [0.24184535],\n",
              "       [0.2329434 ],\n",
              "       [0.24983752],\n",
              "       [0.22858993],\n",
              "       [0.19207275],\n",
              "       [0.19233261],\n",
              "       [0.17816762],\n",
              "       [0.15516562],\n",
              "       [0.08070174],\n",
              "       [0.09980507],\n",
              "       [0.11448989],\n",
              "       [0.10903183],\n",
              "       [0.10201427],\n",
              "       [0.06361269],\n",
              "       [0.08641977],\n",
              "       [0.06159841],\n",
              "       [0.04132554],\n",
              "       [0.03684209],\n",
              "       [0.03203374],\n",
              "       [0.02651073],\n",
              "       [0.03248863],\n",
              "       [0.011501  ],\n",
              "       [0.        ],\n",
              "       [0.04119555],\n",
              "       [0.06003892],\n",
              "       [0.07745287],\n",
              "       [0.10948661],\n",
              "       [0.12527614],\n",
              "       [0.13976604],\n",
              "       [0.13573748],\n",
              "       [0.13547752],\n",
              "       [0.1263158 ],\n",
              "       [0.13378814],\n",
              "       [0.16341776],\n",
              "       [0.15964906],\n",
              "       [0.16998052],\n",
              "       [0.16556202],\n",
              "       [0.16426249],\n",
              "       [0.14470437],\n",
              "       [0.17218972],\n",
              "       [0.17179987],\n",
              "       [0.15997397],\n",
              "       [0.18356074],\n",
              "       [0.19122801],\n",
              "       [0.20214424],\n",
              "       [0.2009746 ],\n",
              "       [0.17361923],\n",
              "       [0.18154646],\n",
              "       [0.19447688],\n",
              "       [0.18486027],\n",
              "       [0.19493176],\n",
              "       [0.20734244],\n",
              "       [0.20272901],\n",
              "       [0.19525667],\n",
              "       [0.2102664 ],\n",
              "       [0.19031833],\n",
              "       [0.22040283],\n",
              "       [0.23092912],\n",
              "       [0.22982452],\n",
              "       [0.21910331],\n",
              "       [0.22378168],\n",
              "       [0.23638719],\n",
              "       [0.23053927],\n",
              "       [0.25821954],\n",
              "       [0.22826503],\n",
              "       [0.19961013],\n",
              "       [0.13021437],\n",
              "       [0.15399607],\n",
              "       [0.16725139],\n",
              "       [0.1957764 ],\n",
              "       [0.17992203],\n",
              "       [0.17660813],\n",
              "       [0.23177385],\n",
              "       [0.19135799],\n",
              "       [0.18479532],\n",
              "       [0.21572446],\n",
              "       [0.24074075],\n",
              "       [0.24080569],\n",
              "       [0.25562049],\n",
              "       [0.25445095],\n",
              "       [0.19064324],\n",
              "       [0.21565952],\n",
              "       [0.20051981],\n",
              "       [0.20942166],\n",
              "       [0.23203372],\n",
              "       [0.2302794 ],\n",
              "       [0.21052626],\n",
              "       [0.23320336],\n",
              "       [0.25977904],\n",
              "       [0.25964906],\n",
              "       [0.26556201],\n",
              "       [0.28200124],\n",
              "       [0.32677057],\n",
              "       [0.3235217 ],\n",
              "       [0.2953216 ],\n",
              "       [0.30279395],\n",
              "       [0.30799215],\n",
              "       [0.32144248],\n",
              "       [0.30968162],\n",
              "       [0.28869389],\n",
              "       [0.29512668],\n",
              "       [0.28836899],\n",
              "       [0.31013641],\n",
              "       [0.302729  ],\n",
              "       [0.29577649],\n",
              "       [0.32923973],\n",
              "       [0.33326829],\n",
              "       [0.29668617],\n",
              "       [0.30877194],\n",
              "       [0.34899278],\n",
              "       [0.34931769],\n",
              "       [0.33203371],\n",
              "       [0.34912276],\n",
              "       [0.36900578],\n",
              "       [0.40877193],\n",
              "       [0.40656263],\n",
              "       [0.40298896],\n",
              "       [0.39681604],\n",
              "       [0.402729  ],\n",
              "       [0.41007146],\n",
              "       [0.43671207],\n",
              "       [0.4331384 ],\n",
              "       [0.45406099],\n",
              "       [0.45666014],\n",
              "       [0.47615331],\n",
              "       [0.4922027 ],\n",
              "       [0.45477574],\n",
              "       [0.45458082],\n",
              "       [0.49031831],\n",
              "       [0.53619233],\n",
              "       [0.54710846],\n",
              "       [0.54470433],\n",
              "       [0.54541899],\n",
              "       [0.55964903],\n",
              "       [0.56426255],\n",
              "       [0.57764785],\n",
              "       [0.57608826],\n",
              "       [0.59239761],\n",
              "       [0.58050687],\n",
              "       [0.60077974],\n",
              "       [0.60948666],\n",
              "       [0.60422353],\n",
              "       [0.58408053],\n",
              "       [0.57641327],\n",
              "       [0.57491872],\n",
              "       [0.60474325],\n",
              "       [0.59122807],\n",
              "       [0.61429492],\n",
              "       [0.61046128],\n",
              "       [0.59038334],\n",
              "       [0.5597791 ],\n",
              "       [0.57465875],\n",
              "       [0.59961   ],\n",
              "       [0.63294335],\n",
              "       [0.60831712],\n",
              "       [0.61845356],\n",
              "       [0.63333321],\n",
              "       [0.63781665],\n",
              "       [0.66179328],\n",
              "       [0.6923975 ],\n",
              "       [0.69597138],\n",
              "       [0.69161781],\n",
              "       [0.69343717],\n",
              "       [0.68966857],\n",
              "       [0.71929818],\n",
              "       [0.7210525 ],\n",
              "       [0.75769977],\n",
              "       [0.75698491],\n",
              "       [0.76816101],\n",
              "       [0.7820012 ],\n",
              "       [0.82553603],\n",
              "       [0.80656259],\n",
              "       [0.82196217],\n",
              "       [0.81280055],\n",
              "       [0.84398955],\n",
              "       [0.88583492],\n",
              "       [0.89038321],\n",
              "       [0.93346316],\n",
              "       [0.9056529 ],\n",
              "       [0.89694597],\n",
              "       [0.92228706],\n",
              "       [0.94496426],\n",
              "       [0.93092915],\n",
              "       [0.93827161],\n",
              "       [0.94821312],\n",
              "       [0.94223513],\n",
              "       [0.88141651],\n",
              "       [0.93820657],\n",
              "       [0.9814164 ],\n",
              "       [0.97836246],\n",
              "       [0.88505522],\n",
              "       [0.87953212],\n",
              "       [0.94574395],\n",
              "       [0.96263808],\n",
              "       [0.98706939],\n",
              "       [0.95341122],\n",
              "       [0.9632877 ],\n",
              "       [0.95068209],\n",
              "       [1.        ],\n",
              "       [0.98486019],\n",
              "       [0.98538012],\n",
              "       [0.94671857],\n",
              "       [0.97673803],\n",
              "       [0.95516554],\n",
              "       [0.90805703],\n",
              "       [0.81143588],\n",
              "       [0.74580882],\n",
              "       [0.77550347],\n",
              "       [0.65120195],\n",
              "       [0.65016229],\n",
              "       [0.81552948],\n",
              "       [0.75386613],\n",
              "       [0.84106549],\n",
              "       [0.77725798],\n",
              "       [0.75198174],\n",
              "       [0.60344382],\n",
              "       [0.72800511],\n",
              "       [0.66361263],\n",
              "       [0.48687452],\n",
              "       [0.68011691],\n",
              "       [0.44775828],\n",
              "       [0.51695902],\n",
              "       [0.47673808],\n",
              "       [0.46445739],\n",
              "       [0.36348277],\n",
              "       [0.33183879],\n",
              "       [0.47810265],\n",
              "       [0.46926574],\n",
              "       [0.55321634],\n",
              "       [0.48369069],\n",
              "       [0.52962957],\n",
              "       [0.52625072],\n",
              "       [0.43931122],\n",
              "       [0.46543201],\n",
              "       [0.44256008],\n",
              "       [0.57940216],\n",
              "       [0.55964903],\n",
              "       [0.60279401],\n",
              "       [0.61526954],\n",
              "       [0.64944764],\n",
              "       [0.73911617],\n",
              "       [0.72209216],\n",
              "       [0.73677708],\n",
              "       [0.71150084],\n",
              "       [0.67335922],\n",
              "       [0.6177387 ],\n",
              "       [0.66796619],\n",
              "       [0.66101358],\n",
              "       [0.71260553]])"
            ]
          },
          "metadata": {
            "tags": []
          },
          "execution_count": 104
        }
      ]
    },
    {
      "cell_type": "markdown",
      "metadata": {
        "id": "Yu1u0KW19PVy",
        "colab_type": "text"
      },
      "source": [
        "**Split the data in Data to Train/Validate the LSTM and Data to Test the model**"
      ]
    },
    {
      "cell_type": "code",
      "metadata": {
        "id": "CXbj6iL7uQ12",
        "colab_type": "code",
        "colab": {
          "base_uri": "https://localhost:8080/",
          "height": 680
        },
        "outputId": "bfc60902-215a-485b-ba37-2d1e46a7e3be"
      },
      "source": [
        "#Create the training data set\n",
        "#Create the scaled training data set\n",
        "train_data = scaled_data[0:int(training_data_len), :]\n",
        "#Split the data into x_train and y_train data sets\n",
        "x_train = []\n",
        "y_train = []\n",
        "\n",
        "for i in range(60, len(train_data)):\n",
        "    x_train.append(train_data[i-60:i, 0])\n",
        "    y_train.append(train_data[i, 0])\n",
        "    if i<= 61:\n",
        "        print(x_train)\n",
        "        print(y_train)\n",
        "        print()"
      ],
      "execution_count": 105,
      "outputs": [
        {
          "output_type": "stream",
          "text": [
            "[array([0.20779723, 0.20142949, 0.20344377, 0.17784271, 0.24184535,\n",
            "       0.2329434 , 0.24983752, 0.22858993, 0.19207275, 0.19233261,\n",
            "       0.17816762, 0.15516562, 0.08070174, 0.09980507, 0.11448989,\n",
            "       0.10903183, 0.10201427, 0.06361269, 0.08641977, 0.06159841,\n",
            "       0.04132554, 0.03684209, 0.03203374, 0.02651073, 0.03248863,\n",
            "       0.011501  , 0.        , 0.04119555, 0.06003892, 0.07745287,\n",
            "       0.10948661, 0.12527614, 0.13976604, 0.13573748, 0.13547752,\n",
            "       0.1263158 , 0.13378814, 0.16341776, 0.15964906, 0.16998052,\n",
            "       0.16556202, 0.16426249, 0.14470437, 0.17218972, 0.17179987,\n",
            "       0.15997397, 0.18356074, 0.19122801, 0.20214424, 0.2009746 ,\n",
            "       0.17361923, 0.18154646, 0.19447688, 0.18486027, 0.19493176,\n",
            "       0.20734244, 0.20272901, 0.19525667, 0.2102664 , 0.19031833])]\n",
            "[0.220402833114844]\n",
            "\n",
            "[array([0.20779723, 0.20142949, 0.20344377, 0.17784271, 0.24184535,\n",
            "       0.2329434 , 0.24983752, 0.22858993, 0.19207275, 0.19233261,\n",
            "       0.17816762, 0.15516562, 0.08070174, 0.09980507, 0.11448989,\n",
            "       0.10903183, 0.10201427, 0.06361269, 0.08641977, 0.06159841,\n",
            "       0.04132554, 0.03684209, 0.03203374, 0.02651073, 0.03248863,\n",
            "       0.011501  , 0.        , 0.04119555, 0.06003892, 0.07745287,\n",
            "       0.10948661, 0.12527614, 0.13976604, 0.13573748, 0.13547752,\n",
            "       0.1263158 , 0.13378814, 0.16341776, 0.15964906, 0.16998052,\n",
            "       0.16556202, 0.16426249, 0.14470437, 0.17218972, 0.17179987,\n",
            "       0.15997397, 0.18356074, 0.19122801, 0.20214424, 0.2009746 ,\n",
            "       0.17361923, 0.18154646, 0.19447688, 0.18486027, 0.19493176,\n",
            "       0.20734244, 0.20272901, 0.19525667, 0.2102664 , 0.19031833]), array([0.20142949, 0.20344377, 0.17784271, 0.24184535, 0.2329434 ,\n",
            "       0.24983752, 0.22858993, 0.19207275, 0.19233261, 0.17816762,\n",
            "       0.15516562, 0.08070174, 0.09980507, 0.11448989, 0.10903183,\n",
            "       0.10201427, 0.06361269, 0.08641977, 0.06159841, 0.04132554,\n",
            "       0.03684209, 0.03203374, 0.02651073, 0.03248863, 0.011501  ,\n",
            "       0.        , 0.04119555, 0.06003892, 0.07745287, 0.10948661,\n",
            "       0.12527614, 0.13976604, 0.13573748, 0.13547752, 0.1263158 ,\n",
            "       0.13378814, 0.16341776, 0.15964906, 0.16998052, 0.16556202,\n",
            "       0.16426249, 0.14470437, 0.17218972, 0.17179987, 0.15997397,\n",
            "       0.18356074, 0.19122801, 0.20214424, 0.2009746 , 0.17361923,\n",
            "       0.18154646, 0.19447688, 0.18486027, 0.19493176, 0.20734244,\n",
            "       0.20272901, 0.19525667, 0.2102664 , 0.19031833, 0.22040283])]\n",
            "[0.220402833114844, 0.23092911580011655]\n",
            "\n"
          ],
          "name": "stdout"
        }
      ]
    },
    {
      "cell_type": "code",
      "metadata": {
        "id": "ODzXrLo9uWwY",
        "colab_type": "code",
        "colab": {}
      },
      "source": [
        "# Convert the x_train and y_train to numpy arrays \n",
        "x_train, y_train = np.array(x_train), np.array(y_train)"
      ],
      "execution_count": 0,
      "outputs": []
    },
    {
      "cell_type": "code",
      "metadata": {
        "id": "xTNHPttvuZjh",
        "colab_type": "code",
        "colab": {
          "base_uri": "https://localhost:8080/",
          "height": 34
        },
        "outputId": "aae4431d-074d-4b7b-cf55-1afc2ab1141c"
      },
      "source": [
        "#Reshape the data\n",
        "x_train = np.reshape(x_train, (x_train.shape[0], x_train.shape[1], 1))\n",
        "x_train.shape"
      ],
      "execution_count": 107,
      "outputs": [
        {
          "output_type": "execute_result",
          "data": {
            "text/plain": [
              "(143, 60, 1)"
            ]
          },
          "metadata": {
            "tags": []
          },
          "execution_count": 107
        }
      ]
    },
    {
      "cell_type": "code",
      "metadata": {
        "id": "6ki48rhPudtI",
        "colab_type": "code",
        "colab": {}
      },
      "source": [
        "from keras.models import Sequential\n",
        "from keras.layers import Dense, LSTM\n",
        "\n",
        "#Build the LSTM model\n",
        "model = Sequential()\n",
        "model.add(LSTM(50, return_sequences=True, input_shape= (x_train.shape[1], 1)))\n",
        "model.add(LSTM(50, return_sequences= False))\n",
        "model.add(Dense(25))\n",
        "model.add(Dense(1))"
      ],
      "execution_count": 0,
      "outputs": []
    },
    {
      "cell_type": "code",
      "metadata": {
        "id": "KLzdqGumuhIK",
        "colab_type": "code",
        "colab": {}
      },
      "source": [
        "# Compile the model\n",
        "model.compile(optimizer='adam', loss='mean_squared_error')"
      ],
      "execution_count": 0,
      "outputs": []
    },
    {
      "cell_type": "code",
      "metadata": {
        "id": "H_STvv9yukBN",
        "colab_type": "code",
        "colab": {
          "base_uri": "https://localhost:8080/",
          "height": 68
        },
        "outputId": "2f028568-b0bd-43f8-e94f-f13d6c641606"
      },
      "source": [
        "#Train the model\n",
        "model.fit(x_train, y_train, batch_size=1, epochs=1)"
      ],
      "execution_count": 110,
      "outputs": [
        {
          "output_type": "stream",
          "text": [
            "Epoch 1/1\n",
            "143/143 [==============================] - 5s 38ms/step - loss: 0.0141\n"
          ],
          "name": "stdout"
        },
        {
          "output_type": "execute_result",
          "data": {
            "text/plain": [
              "<keras.callbacks.callbacks.History at 0x7fcf0a2829b0>"
            ]
          },
          "metadata": {
            "tags": []
          },
          "execution_count": 110
        }
      ]
    },
    {
      "cell_type": "code",
      "metadata": {
        "id": "-SxrmXBsunqg",
        "colab_type": "code",
        "colab": {}
      },
      "source": [
        "#Create the testing data set\n",
        "#Create a new array containing scaled values from index 1543 to 2002 \n",
        "test_data = scaled_data[training_data_len - 60: , :]\n",
        "#Create the data sets x_test and y_test\n",
        "x_test = []\n",
        "y_test = dataset[training_data_len:, :]\n",
        "for i in range(60, len(test_data)):\n",
        "    x_test.append(test_data[i-60:i, 0])"
      ],
      "execution_count": 0,
      "outputs": []
    },
    {
      "cell_type": "code",
      "metadata": {
        "id": "cFW7VEVDt-N_",
        "colab_type": "code",
        "colab": {}
      },
      "source": [
        "# Convert the data to a numpy array\n",
        "x_test = np.array(x_test)"
      ],
      "execution_count": 0,
      "outputs": []
    },
    {
      "cell_type": "code",
      "metadata": {
        "id": "2D6Z99Ozu08G",
        "colab_type": "code",
        "colab": {}
      },
      "source": [
        "# Reshape the data\n",
        "x_test = np.reshape(x_test, (x_test.shape[0], x_test.shape[1], 1 ))"
      ],
      "execution_count": 0,
      "outputs": []
    },
    {
      "cell_type": "code",
      "metadata": {
        "id": "3Xrkqgtlu4LG",
        "colab_type": "code",
        "colab": {}
      },
      "source": [
        "# Get the models predicted price values \n",
        "predictions = model.predict(x_test)\n",
        "predictions = scaler.inverse_transform(predictions)"
      ],
      "execution_count": 0,
      "outputs": []
    },
    {
      "cell_type": "code",
      "metadata": {
        "id": "e8RoNbRbu8J-",
        "colab_type": "code",
        "colab": {
          "base_uri": "https://localhost:8080/",
          "height": 34
        },
        "outputId": "d2f7151d-5f83-4b65-f364-4c5a2ac548d6"
      },
      "source": [
        "# Get the root mean squared error (RMSE)\n",
        "rmse = np.sqrt(np.mean(((predictions - y_test) ** 2)))\n",
        "rmse"
      ],
      "execution_count": 115,
      "outputs": [
        {
          "output_type": "execute_result",
          "data": {
            "text/plain": [
              "23.69631469560734"
            ]
          },
          "metadata": {
            "tags": []
          },
          "execution_count": 115
        }
      ]
    },
    {
      "cell_type": "code",
      "metadata": {
        "id": "TOI5vxnVvAOF",
        "colab_type": "code",
        "colab": {
          "base_uri": "https://localhost:8080/",
          "height": 626
        },
        "outputId": "783a216b-89b7-4146-ff60-8e0726eca28a"
      },
      "source": [
        "# Plot the data\n",
        "train = data[:training_data_len]\n",
        "valid = data[training_data_len:]\n",
        "valid['Predictions'] = predictions\n",
        "# Visualize the data\n",
        "plt.figure(figsize=(16,8))\n",
        "plt.title('Model')\n",
        "plt.xlabel('Date', fontsize=18)\n",
        "plt.ylabel('Close Price USD ($)', fontsize=18)\n",
        "plt.plot(train['Close'])\n",
        "plt.plot(valid[['Close', 'Predictions']])\n",
        "plt.legend(['Train', 'Val', 'Predictions'], loc='lower right')\n",
        "plt.show()"
      ],
      "execution_count": 116,
      "outputs": [
        {
          "output_type": "stream",
          "text": [
            "/usr/local/lib/python3.6/dist-packages/ipykernel_launcher.py:3: SettingWithCopyWarning: \n",
            "A value is trying to be set on a copy of a slice from a DataFrame.\n",
            "Try using .loc[row_indexer,col_indexer] = value instead\n",
            "\n",
            "See the caveats in the documentation: https://pandas.pydata.org/pandas-docs/stable/user_guide/indexing.html#returning-a-view-versus-a-copy\n",
            "  This is separate from the ipykernel package so we can avoid doing imports until\n"
          ],
          "name": "stderr"
        },
        {
          "output_type": "display_data",
          "data": {
            "image/png": "[encoded data removed]",
            "text/plain": [
              "<Figure size 1152x576 with 1 Axes>"
            ]
          },
          "metadata": {
            "tags": [],
            "needs_background": "light"
          }
        }
      ]
    },
    {
      "cell_type": "code",
      "metadata": {
        "id": "dpaL9bJnvELr",
        "colab_type": "code",
        "colab": {
          "base_uri": "https://localhost:8080/",
          "height": 1000
        },
        "outputId": "ea5ae16b-4d46-430d-cdd4-856afad77068"
      },
      "source": [
        "#Show the valid and predicted prices\n",
        "valid"
      ],
      "execution_count": 117,
      "outputs": [
        {
          "output_type": "execute_result",
          "data": {
            "text/html": [
              "<div>\n",
              "<style scoped>\n",
              "    .dataframe tbody tr th:only-of-type {\n",
              "        vertical-align: middle;\n",
              "    }\n",
              "\n",
              "    .dataframe tbody tr th {\n",
              "        vertical-align: top;\n",
              "    }\n",
              "\n",
              "    .dataframe thead th {\n",
              "        text-align: right;\n",
              "    }\n",
              "</style>\n",
              "<table border=\"1\" class=\"dataframe\">\n",
              "  <thead>\n",
              "    <tr style=\"text-align: right;\">\n",
              "      <th></th>\n",
              "      <th>Close</th>\n",
              "      <th>Predictions</th>\n",
              "    </tr>\n",
              "  </thead>\n",
              "  <tbody>\n",
              "    <tr>\n",
              "      <th>203</th>\n",
              "      <td>324.869995</td>\n",
              "      <td>321.295227</td>\n",
              "    </tr>\n",
              "    <tr>\n",
              "      <th>204</th>\n",
              "      <td>324.950012</td>\n",
              "      <td>321.996796</td>\n",
              "    </tr>\n",
              "    <tr>\n",
              "      <th>205</th>\n",
              "      <td>319.000000</td>\n",
              "      <td>322.688995</td>\n",
              "    </tr>\n",
              "    <tr>\n",
              "      <th>206</th>\n",
              "      <td>323.619995</td>\n",
              "      <td>323.136383</td>\n",
              "    </tr>\n",
              "    <tr>\n",
              "      <th>207</th>\n",
              "      <td>320.299988</td>\n",
              "      <td>323.562622</td>\n",
              "    </tr>\n",
              "    <tr>\n",
              "      <th>208</th>\n",
              "      <td>313.049988</td>\n",
              "      <td>323.840973</td>\n",
              "    </tr>\n",
              "    <tr>\n",
              "      <th>209</th>\n",
              "      <td>298.179993</td>\n",
              "      <td>323.748535</td>\n",
              "    </tr>\n",
              "    <tr>\n",
              "      <th>210</th>\n",
              "      <td>288.079987</td>\n",
              "      <td>322.867828</td>\n",
              "    </tr>\n",
              "    <tr>\n",
              "      <th>211</th>\n",
              "      <td>292.649994</td>\n",
              "      <td>321.105835</td>\n",
              "    </tr>\n",
              "    <tr>\n",
              "      <th>212</th>\n",
              "      <td>273.519989</td>\n",
              "      <td>318.968414</td>\n",
              "    </tr>\n",
              "    <tr>\n",
              "      <th>213</th>\n",
              "      <td>273.359985</td>\n",
              "      <td>315.943848</td>\n",
              "    </tr>\n",
              "    <tr>\n",
              "      <th>214</th>\n",
              "      <td>298.809998</td>\n",
              "      <td>312.413666</td>\n",
              "    </tr>\n",
              "    <tr>\n",
              "      <th>215</th>\n",
              "      <td>289.320007</td>\n",
              "      <td>309.622803</td>\n",
              "    </tr>\n",
              "    <tr>\n",
              "      <th>216</th>\n",
              "      <td>302.739990</td>\n",
              "      <td>307.092834</td>\n",
              "    </tr>\n",
              "    <tr>\n",
              "      <th>217</th>\n",
              "      <td>292.920013</td>\n",
              "      <td>305.344543</td>\n",
              "    </tr>\n",
              "    <tr>\n",
              "      <th>218</th>\n",
              "      <td>289.029999</td>\n",
              "      <td>303.830963</td>\n",
              "    </tr>\n",
              "    <tr>\n",
              "      <th>219</th>\n",
              "      <td>266.170013</td>\n",
              "      <td>302.385223</td>\n",
              "    </tr>\n",
              "    <tr>\n",
              "      <th>220</th>\n",
              "      <td>285.339996</td>\n",
              "      <td>300.167511</td>\n",
              "    </tr>\n",
              "    <tr>\n",
              "      <th>221</th>\n",
              "      <td>275.429993</td>\n",
              "      <td>298.220642</td>\n",
              "    </tr>\n",
              "    <tr>\n",
              "      <th>222</th>\n",
              "      <td>248.229996</td>\n",
              "      <td>296.152252</td>\n",
              "    </tr>\n",
              "    <tr>\n",
              "      <th>223</th>\n",
              "      <td>277.970001</td>\n",
              "      <td>293.029633</td>\n",
              "    </tr>\n",
              "    <tr>\n",
              "      <th>224</th>\n",
              "      <td>242.210007</td>\n",
              "      <td>290.440430</td>\n",
              "    </tr>\n",
              "    <tr>\n",
              "      <th>225</th>\n",
              "      <td>252.860001</td>\n",
              "      <td>286.929291</td>\n",
              "    </tr>\n",
              "    <tr>\n",
              "      <th>226</th>\n",
              "      <td>246.669998</td>\n",
              "      <td>283.329895</td>\n",
              "    </tr>\n",
              "    <tr>\n",
              "      <th>227</th>\n",
              "      <td>244.779999</td>\n",
              "      <td>279.560730</td>\n",
              "    </tr>\n",
              "    <tr>\n",
              "      <th>228</th>\n",
              "      <td>229.240005</td>\n",
              "      <td>275.743530</td>\n",
              "    </tr>\n",
              "    <tr>\n",
              "      <th>229</th>\n",
              "      <td>224.369995</td>\n",
              "      <td>271.424042</td>\n",
              "    </tr>\n",
              "    <tr>\n",
              "      <th>230</th>\n",
              "      <td>246.880005</td>\n",
              "      <td>266.730164</td>\n",
              "    </tr>\n",
              "    <tr>\n",
              "      <th>231</th>\n",
              "      <td>245.520004</td>\n",
              "      <td>262.850403</td>\n",
              "    </tr>\n",
              "    <tr>\n",
              "      <th>232</th>\n",
              "      <td>258.440002</td>\n",
              "      <td>259.620697</td>\n",
              "    </tr>\n",
              "    <tr>\n",
              "      <th>233</th>\n",
              "      <td>247.740005</td>\n",
              "      <td>257.469299</td>\n",
              "    </tr>\n",
              "    <tr>\n",
              "      <th>234</th>\n",
              "      <td>254.809998</td>\n",
              "      <td>255.712418</td>\n",
              "    </tr>\n",
              "    <tr>\n",
              "      <th>235</th>\n",
              "      <td>254.289993</td>\n",
              "      <td>254.563065</td>\n",
              "    </tr>\n",
              "    <tr>\n",
              "      <th>236</th>\n",
              "      <td>240.910004</td>\n",
              "      <td>253.844193</td>\n",
              "    </tr>\n",
              "    <tr>\n",
              "      <th>237</th>\n",
              "      <td>244.929993</td>\n",
              "      <td>252.911362</td>\n",
              "    </tr>\n",
              "    <tr>\n",
              "      <th>238</th>\n",
              "      <td>241.410004</td>\n",
              "      <td>252.015350</td>\n",
              "    </tr>\n",
              "    <tr>\n",
              "      <th>239</th>\n",
              "      <td>262.470001</td>\n",
              "      <td>251.034348</td>\n",
              "    </tr>\n",
              "    <tr>\n",
              "      <th>240</th>\n",
              "      <td>259.429993</td>\n",
              "      <td>250.858612</td>\n",
              "    </tr>\n",
              "    <tr>\n",
              "      <th>241</th>\n",
              "      <td>266.070007</td>\n",
              "      <td>251.123932</td>\n",
              "    </tr>\n",
              "    <tr>\n",
              "      <th>242</th>\n",
              "      <td>267.989990</td>\n",
              "      <td>251.938278</td>\n",
              "    </tr>\n",
              "    <tr>\n",
              "      <th>243</th>\n",
              "      <td>273.250000</td>\n",
              "      <td>253.169662</td>\n",
              "    </tr>\n",
              "    <tr>\n",
              "      <th>244</th>\n",
              "      <td>287.049988</td>\n",
              "      <td>254.840164</td>\n",
              "    </tr>\n",
              "    <tr>\n",
              "      <th>245</th>\n",
              "      <td>284.429993</td>\n",
              "      <td>257.279938</td>\n",
              "    </tr>\n",
              "    <tr>\n",
              "      <th>246</th>\n",
              "      <td>286.690002</td>\n",
              "      <td>260.052490</td>\n",
              "    </tr>\n",
              "    <tr>\n",
              "      <th>247</th>\n",
              "      <td>282.799988</td>\n",
              "      <td>263.027191</td>\n",
              "    </tr>\n",
              "    <tr>\n",
              "      <th>248</th>\n",
              "      <td>276.929993</td>\n",
              "      <td>265.871765</td>\n",
              "    </tr>\n",
              "    <tr>\n",
              "      <th>249</th>\n",
              "      <td>268.369995</td>\n",
              "      <td>268.285767</td>\n",
              "    </tr>\n",
              "    <tr>\n",
              "      <th>250</th>\n",
              "      <td>276.100006</td>\n",
              "      <td>269.976471</td>\n",
              "    </tr>\n",
              "    <tr>\n",
              "      <th>251</th>\n",
              "      <td>275.029999</td>\n",
              "      <td>271.402893</td>\n",
              "    </tr>\n",
              "    <tr>\n",
              "      <th>252</th>\n",
              "      <td>282.970001</td>\n",
              "      <td>272.560120</td>\n",
              "    </tr>\n",
              "  </tbody>\n",
              "</table>\n",
              "</div>"
            ],
            "text/plain": [
              "          Close  Predictions\n",
              "203  324.869995   321.295227\n",
              "204  324.950012   321.996796\n",
              "205  319.000000   322.688995\n",
              "206  323.619995   323.136383\n",
              "207  320.299988   323.562622\n",
              "208  313.049988   323.840973\n",
              "209  298.179993   323.748535\n",
              "210  288.079987   322.867828\n",
              "211  292.649994   321.105835\n",
              "212  273.519989   318.968414\n",
              "213  273.359985   315.943848\n",
              "214  298.809998   312.413666\n",
              "215  289.320007   309.622803\n",
              "216  302.739990   307.092834\n",
              "217  292.920013   305.344543\n",
              "218  289.029999   303.830963\n",
              "219  266.170013   302.385223\n",
              "220  285.339996   300.167511\n",
              "221  275.429993   298.220642\n",
              "222  248.229996   296.152252\n",
              "223  277.970001   293.029633\n",
              "224  242.210007   290.440430\n",
              "225  252.860001   286.929291\n",
              "226  246.669998   283.329895\n",
              "227  244.779999   279.560730\n",
              "228  229.240005   275.743530\n",
              "229  224.369995   271.424042\n",
              "230  246.880005   266.730164\n",
              "231  245.520004   262.850403\n",
              "232  258.440002   259.620697\n",
              "233  247.740005   257.469299\n",
              "234  254.809998   255.712418\n",
              "235  254.289993   254.563065\n",
              "236  240.910004   253.844193\n",
              "237  244.929993   252.911362\n",
              "238  241.410004   252.015350\n",
              "239  262.470001   251.034348\n",
              "240  259.429993   250.858612\n",
              "241  266.070007   251.123932\n",
              "242  267.989990   251.938278\n",
              "243  273.250000   253.169662\n",
              "244  287.049988   254.840164\n",
              "245  284.429993   257.279938\n",
              "246  286.690002   260.052490\n",
              "247  282.799988   263.027191\n",
              "248  276.929993   265.871765\n",
              "249  268.369995   268.285767\n",
              "250  276.100006   269.976471\n",
              "251  275.029999   271.402893\n",
              "252  282.970001   272.560120"
            ]
          },
          "metadata": {
            "tags": []
          },
          "execution_count": 117
        }
      ]
    },
    {
      "cell_type": "markdown",
      "metadata": {
        "id": "9Fdk2wy9YvQ0",
        "colab_type": "text"
      },
      "source": [
        ""
      ]
    },
    {
      "cell_type": "markdown",
      "metadata": {
        "id": "17CO2ZVfYvuU",
        "colab_type": "text"
      },
      "source": [
        ""
      ]
    },
    {
      "cell_type": "markdown",
      "metadata": {
        "id": "Pbx_EY22YwEt",
        "colab_type": "text"
      },
      "source": [
        ""
      ]
    }
  ]
}